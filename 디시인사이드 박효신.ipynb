{
 "cells": [
  {
   "cell_type": "code",
   "execution_count": 11,
   "metadata": {},
   "outputs": [],
   "source": [
    "from selenium import webdriver"
   ]
  },
  {
   "cell_type": "code",
   "execution_count": 12,
   "metadata": {},
   "outputs": [],
   "source": [
    "driver = webdriver.Chrome(\"./chromedriver\")\n",
    "url =\"https://gall.dcinside.com/board/view/?id=parkhyoshin\""
   ]
  },
  {
   "cell_type": "code",
   "execution_count": 13,
   "metadata": {},
   "outputs": [],
   "source": [
    "from selenium import webdriver\n",
    "from selenium.webdriver import ActionChains\n"
   ]
  },
  {
   "cell_type": "code",
   "execution_count": 20,
   "metadata": {},
   "outputs": [],
   "source": [
    "def get_title_of_post(driver,url):\n",
    "\ttitle_list = []\n",
    "\tdriver.get(url)\n",
    "\tposts = driver.find_elements_by_class_name(\"ub-content\")\n",
    "\t\n",
    "\tfor i in range(0,len(posts)):\n",
    "\t\tif posts[i].find_element_by_class_name(\"gall_date\").text == \"07/03\":\n",
    "\t\t\tpost_title = posts[i].find_element_by_tag_name(\"a\").text\n",
    "\t\t\ttitle_list.append(post_title)\n",
    "\treturn title_list"
   ]
  },
  {
   "cell_type": "code",
   "execution_count": 21,
   "metadata": {},
   "outputs": [],
   "source": [
    "\n",
    "def isTodayPostOnPage(driver,url,date):\n",
    "\tdriver.get(url)\n",
    "\tposts = driver.find_elements_by_class_name(\"gall_date\")\n",
    "\t\n",
    "\tfor i in range(0,len(posts)):\n",
    "\t\tif posts[i].text == date:\n",
    "\t\t\treturn True\n",
    "\treturn False"
   ]
  },
  {
   "cell_type": "code",
   "execution_count": 24,
   "metadata": {},
   "outputs": [],
   "source": [
    "\n",
    "def main():\n",
    "\tdriver = webdriver.Chrome(\"./chromedriver\")\n",
    "\turl = \"https://gall.dcinside.com/board/view/?id=parkhyoshin&page=\"\n",
    "\tpage_Number = 1\n",
    "\twhile True:\n",
    "\t\tif isTodayPostOnPage(driver,url+str(page_Number),\"오늘 날짜 ex)10/19\"):\n",
    "\t\t\tprint(get_title_of_post(driver,url+str(page_Number)))\n",
    "\t\t\tpage_Number+=1\n",
    "\t\telse:\n",
    "\t\t\tbreak"
   ]
  },
  {
   "cell_type": "code",
   "execution_count": 25,
   "metadata": {},
   "outputs": [],
   "source": [
    "\n",
    "if __name__ == \"__main__\":\n",
    "\tmain()"
   ]
  },
  {
   "cell_type": "code",
   "execution_count": null,
   "metadata": {},
   "outputs": [],
   "source": []
  },
  {
   "cell_type": "code",
   "execution_count": null,
   "metadata": {},
   "outputs": [],
   "source": []
  },
  {
   "cell_type": "code",
   "execution_count": null,
   "metadata": {},
   "outputs": [],
   "source": []
  },
  {
   "cell_type": "code",
   "execution_count": null,
   "metadata": {},
   "outputs": [],
   "source": []
  },
  {
   "cell_type": "code",
   "execution_count": null,
   "metadata": {},
   "outputs": [],
   "source": []
  },
  {
   "cell_type": "code",
   "execution_count": null,
   "metadata": {},
   "outputs": [],
   "source": []
  }
 ],
 "metadata": {
  "kernelspec": {
   "display_name": "Python 3",
   "language": "python",
   "name": "python3"
  },
  "language_info": {
   "codemirror_mode": {
    "name": "ipython",
    "version": 3
   },
   "file_extension": ".py",
   "mimetype": "text/x-python",
   "name": "python",
   "nbconvert_exporter": "python",
   "pygments_lexer": "ipython3",
   "version": "3.7.3"
  }
 },
 "nbformat": 4,
 "nbformat_minor": 2
}

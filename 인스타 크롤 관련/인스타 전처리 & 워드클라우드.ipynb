{
 "cells": [
  {
   "cell_type": "code",
   "execution_count": 2,
   "metadata": {},
   "outputs": [],
   "source": [
    "import pandas as pd"
   ]
  },
  {
   "cell_type": "code",
   "execution_count": 44,
   "metadata": {},
   "outputs": [
    {
     "name": "stdout",
     "output_type": "stream",
     "text": [
      "Collecting feedparser\n",
      "  Downloading https://files.pythonhosted.org/packages/91/d8/7d37fec71ff7c9dbcdd80d2b48bcdd86d6af502156fc93846fb0102cb2c4/feedparser-5.2.1.tar.bz2 (192kB)\n",
      "Building wheels for collected packages: feedparser\n",
      "  Building wheel for feedparser (setup.py): started\n",
      "  Building wheel for feedparser (setup.py): finished with status 'done'\n",
      "  Stored in directory: C:\\Users\\709-000\\AppData\\Local\\pip\\Cache\\wheels\\8c\\69\\b7\\f52763c41c5471df57703a0ef718a32a5e81ee35dcf6d4f97f\n",
      "Successfully built feedparser\n",
      "Installing collected packages: feedparser\n",
      "Successfully installed feedparser-5.2.1\n"
     ]
    }
   ],
   "source": [
    "!pip install feedparser"
   ]
  },
  {
   "cell_type": "code",
   "execution_count": 2,
   "metadata": {},
   "outputs": [],
   "source": [
    "\n",
    "import feedparser\n",
    "from collections import Counter\n",
    "import matplotlib.pyplot as plt\n",
    "from wordcloud import WordCloud\n"
   ]
  },
  {
   "cell_type": "code",
   "execution_count": 4,
   "metadata": {},
   "outputs": [],
   "source": [
    "import re"
   ]
  },
  {
   "cell_type": "code",
   "execution_count": 3,
   "metadata": {},
   "outputs": [],
   "source": [
    "import matplotlib.pyplot as plt\n",
    "%matplotlib inline\n",
    "\n",
    "from wordcloud import WordCloud\n",
    "from wordcloud import WordCloud, STOPWORDS"
   ]
  },
  {
   "cell_type": "code",
   "execution_count": 5,
   "metadata": {},
   "outputs": [],
   "source": [
    "text = open('dump2 - 복사본.txt',encoding='utf-8').read()\n",
    "t = re.sub('[!@#$]',' ', text)\n",
    "stop_words = {'title title'}\n",
    "# t = t.translate({ord(i): None for i in 'title title'})\n",
    "wordcloud = WordCloud().generate(t)\n"
   ]
  },
  {
   "cell_type": "code",
   "execution_count": null,
   "metadata": {},
   "outputs": [],
   "source": [
    "wo = [each_word for each_word in ]"
   ]
  },
  {
   "cell_type": "code",
   "execution_count": 14,
   "metadata": {},
   "outputs": [
    {
     "ename": "AttributeError",
     "evalue": "'str' object has no attribute 'nouns'",
     "output_type": "error",
     "traceback": [
      "\u001b[1;31m---------------------------------------------------------------------------\u001b[0m",
      "\u001b[1;31mAttributeError\u001b[0m                            Traceback (most recent call last)",
      "\u001b[1;32m<ipython-input-14-076f425808f7>\u001b[0m in \u001b[0;36m<module>\u001b[1;34m\u001b[0m\n\u001b[1;32m----> 1\u001b[1;33m \u001b[0mwo\u001b[0m \u001b[1;33m=\u001b[0m \u001b[0mt\u001b[0m\u001b[1;33m.\u001b[0m\u001b[0mnouns\u001b[0m\u001b[1;33m(\u001b[0m\u001b[1;33m)\u001b[0m\u001b[1;33m\u001b[0m\u001b[1;33m\u001b[0m\u001b[0m\n\u001b[0m",
      "\u001b[1;31mAttributeError\u001b[0m: 'str' object has no attribute 'nouns'"
     ]
    }
   ],
   "source": [
    "wo = t.nouns()"
   ]
  },
  {
   "cell_type": "code",
   "execution_count": 10,
   "metadata": {},
   "outputs": [],
   "source": [
    "import nltk"
   ]
  },
  {
   "cell_type": "code",
   "execution_count": 11,
   "metadata": {},
   "outputs": [
    {
     "ename": "NameError",
     "evalue": "name 'ww_' is not defined",
     "output_type": "error",
     "traceback": [
      "\u001b[1;31m---------------------------------------------------------------------------\u001b[0m",
      "\u001b[1;31mNameError\u001b[0m                                 Traceback (most recent call last)",
      "\u001b[1;32m<ipython-input-11-8fd776b2ecad>\u001b[0m in \u001b[0;36m<module>\u001b[1;34m\u001b[0m\n\u001b[1;32m----> 1\u001b[1;33m \u001b[0mtext\u001b[0m \u001b[1;33m=\u001b[0m \u001b[0mnltk\u001b[0m\u001b[1;33m.\u001b[0m\u001b[0mText\u001b[0m\u001b[1;33m(\u001b[0m\u001b[0mww_\u001b[0m\u001b[1;33m,\u001b[0m \u001b[0mname\u001b[0m \u001b[1;33m=\u001b[0m \u001b[1;34m'ge'\u001b[0m\u001b[1;33m)\u001b[0m\u001b[1;33m\u001b[0m\u001b[1;33m\u001b[0m\u001b[0m\n\u001b[0m\u001b[0;32m      2\u001b[0m \u001b[0mtext\u001b[0m\u001b[1;33m.\u001b[0m\u001b[0mvocab\u001b[0m\u001b[1;33m(\u001b[0m\u001b[1;33m)\u001b[0m\u001b[1;33m.\u001b[0m\u001b[0mmost_common\u001b[0m\u001b[1;33m(\u001b[0m\u001b[1;36m50\u001b[0m\u001b[1;33m)\u001b[0m\u001b[1;33m\u001b[0m\u001b[1;33m\u001b[0m\u001b[0m\n",
      "\u001b[1;31mNameError\u001b[0m: name 'ww_' is not defined"
     ]
    }
   ],
   "source": [
    "text = nltk.Text(ww_, name = 'ge')\n",
    "text.vocab().most_common(50)"
   ]
  },
  {
   "cell_type": "code",
   "execution_count": 6,
   "metadata": {},
   "outputs": [
    {
     "data": {
      "text/plain": [
       "{'Instagram': 1.0,\n",
       " 'title title': 0.987012987012987,\n",
       " 'doll': 0.6363636363636364,\n",
       " 'love': 0.1038961038961039,\n",
       " 'art': 0.09090909090909091,\n",
       " 'bjd': 0.09090909090909091,\n",
       " 'Luxurious Designs': 0.07792207792207792,\n",
       " 'Now Available': 0.07792207792207792,\n",
       " 'Available sale': 0.07792207792207792,\n",
       " 'sale rent': 0.07792207792207792,\n",
       " 'rent luxuriousdesigns': 0.07792207792207792,\n",
       " 'luxuriousdesigns doll': 0.07792207792207792,\n",
       " 'doll kids_style': 0.07792207792207792,\n",
       " 'ooak': 0.06493506493506493,\n",
       " 'cute': 0.06493506493506493,\n",
       " 'vintage': 0.06493506493506493,\n",
       " 'kids_style kidsfashion': 0.06493506493506493,\n",
       " 'kawaii': 0.05194805194805195,\n",
       " 'barbie': 0.05194805194805195,\n",
       " 'portraitphotography': 0.05194805194805195,\n",
       " 'new': 0.05194805194805195,\n",
       " 'de': 0.05194805194805195,\n",
       " 'dollstagram': 0.05194805194805195,\n",
       " 'niceprintphoto Now': 0.05194805194805195,\n",
       " 'eyes': 0.03896103896103896,\n",
       " 'makeup': 0.03896103896103896,\n",
       " 'face': 0.03896103896103896,\n",
       " 'day': 0.03896103896103896,\n",
       " 'toy': 0.03896103896103896,\n",
       " 'precious': 0.03896103896103896,\n",
       " 'que': 0.03896103896103896,\n",
       " 'reborn': 0.03896103896103896,\n",
       " 'dollphotogallery': 0.03896103896103896,\n",
       " 'Al': 0.03896103896103896,\n",
       " 'customdoll': 0.03896103896103896,\n",
       " 'FOTOGRAFOS': 0.03896103896103896,\n",
       " 'photo': 0.03896103896103896,\n",
       " 'Happy': 0.03896103896103896,\n",
       " 'dollphotography': 0.03896103896103896,\n",
       " 'hair': 0.03896103896103896,\n",
       " '인형': 0.03896103896103896,\n",
       " '위스윗': 0.03896103896103896,\n",
       " 'hat': 0.03896103896103896,\n",
       " 'bikbik official': 0.03896103896103896,\n",
       " 'official niceprintphoto': 0.03896103896103896,\n",
       " 'model gown': 0.03896103896103896,\n",
       " 'Model ligia': 0.03896103896103896,\n",
       " 'ligia exe': 0.03896103896103896,\n",
       " 'exe fashion': 0.03896103896103896,\n",
       " 'fashion stylist': 0.03896103896103896,\n",
       " 'stylist photographer': 0.03896103896103896,\n",
       " 'photographer streetphotography': 0.03896103896103896,\n",
       " 'streetphotography photo': 0.03896103896103896,\n",
       " 'annabelle annabellecomeshome': 0.03896103896103896,\n",
       " 'annabellecomeshome theconjuring': 0.03896103896103896,\n",
       " 'theconjuring pink': 0.03896103896103896,\n",
       " 'pink redrose': 0.03896103896103896,\n",
       " '슈가 모찌': 0.03896103896103896,\n",
       " 'title': 0.025974025974025976,\n",
       " 'blythe': 0.025974025974025976,\n",
       " 'нет': 0.025974025974025976,\n",
       " 'artdoll': 0.025974025974025976,\n",
       " 'handmade': 0.025974025974025976,\n",
       " 'dollphoto': 0.025974025974025976,\n",
       " 'ooakdoll': 0.025974025974025976,\n",
       " 'mh': 0.025974025974025976,\n",
       " 'Friend': 0.025974025974025976,\n",
       " 'piece': 0.025974025974025976,\n",
       " 'room': 0.025974025974025976,\n",
       " 'artist': 0.025974025974025976,\n",
       " 'still': 0.025974025974025976,\n",
       " 'Dm': 0.025974025974025976,\n",
       " 'TAICHUNG': 0.025974025974025976,\n",
       " 'clothes': 0.025974025974025976,\n",
       " 'disney': 0.025974025974025976,\n",
       " 'glitter': 0.025974025974025976,\n",
       " 'dollhouse': 0.025974025974025976,\n",
       " 'Little': 0.025974025974025976,\n",
       " 'CROW': 0.025974025974025976,\n",
       " 'tattoo': 0.025974025974025976,\n",
       " 'Princess': 0.025974025974025976,\n",
       " 'en': 0.025974025974025976,\n",
       " 'Show': 0.025974025974025976,\n",
       " 'TOOI': 0.025974025974025976,\n",
       " 'unicorn': 0.025974025974025976,\n",
       " 'Go': 0.025974025974025976,\n",
       " 'smoking': 0.025974025974025976,\n",
       " 'TRAVEL': 0.025974025974025976,\n",
       " 'one': 0.025974025974025976,\n",
       " 'miniature': 0.025974025974025976,\n",
       " 'collection': 0.025974025974025976,\n",
       " 'Kid': 0.025974025974025976,\n",
       " 'Bratz': 0.025974025974025976,\n",
       " 'mattel': 0.025974025974025976,\n",
       " 'Kewpie': 0.025974025974025976,\n",
       " 'annabelle': 0.025974025974025976,\n",
       " 'today': 0.025974025974025976,\n",
       " 'Story': 0.025974025974025976,\n",
       " 'set': 0.025974025974025976,\n",
       " 'wooden': 0.025974025974025976,\n",
       " 'made': 0.025974025974025976,\n",
       " 'Bae': 0.025974025974025976,\n",
       " 'bjddoll': 0.025974025974025976,\n",
       " 'lake': 0.025974025974025976,\n",
       " 'พร': 0.025974025974025976,\n",
       " 'fan': 0.025974025974025976,\n",
       " 'dollightfully': 0.025974025974025976,\n",
       " 'dollcustom': 0.025974025974025976,\n",
       " 'yellow': 0.025974025974025976,\n",
       " 'una': 0.025974025974025976,\n",
       " 'cotton': 0.025974025974025976,\n",
       " 'fin': 0.025974025974025976,\n",
       " 'Peachyville': 0.025974025974025976,\n",
       " 'shoko': 0.025974025974025976,\n",
       " 'Twitterの過去写真から': 0.025974025974025976,\n",
       " 'Abigail': 0.025974025974025976,\n",
       " 'creepy': 0.025974025974025976,\n",
       " 'ミーナ': 0.025974025974025976,\n",
       " 'iamdorasnow': 0.025974025974025976,\n",
       " 'modern': 0.025974025974025976,\n",
       " 'Goodwill': 0.025974025974025976,\n",
       " 'chilling': 0.025974025974025976,\n",
       " 'frozencharlotte': 0.025974025974025976,\n",
       " 'monsterhigh monsterhighdoll': 0.025974025974025976,\n",
       " 'El pasado': 0.025974025974025976,\n",
       " 'pasado se': 0.025974025974025976,\n",
       " 'se vuelve': 0.025974025974025976,\n",
       " 'vuelve humo': 0.025974025974025976,\n",
       " 'ℚ𝕦𝕖𝕖𝕟𝕚𝕖 𝕎𝕒𝕥𝕒𝕟𝕒𝕓𝕖': 0.025974025974025976,\n",
       " 'Changing Things': 0.025974025974025976,\n",
       " 'thetrendykidz fashionistas_minis': 0.025974025974025976,\n",
       " 'horrormovie 2019movie': 0.025974025974025976,\n",
       " '2019movie pinkcouch': 0.025974025974025976,\n",
       " '人偶 人形': 0.025974025974025976,\n",
       " 'superdollfie volksdoll': 0.025974025974025976,\n",
       " 'volksdoll sd_f_81': 0.025974025974025976,\n",
       " '𝓜𝓲𝓵𝓵𝓲𝓮 𝓑𝓵𝓪𝓴𝓮': 0.025974025974025976,\n",
       " 'darkgirl aesthetic': 0.025974025974025976,\n",
       " 'aesthetic softgrunge': 0.025974025974025976,\n",
       " 'softgrunge soft': 0.025974025974025976,\n",
       " 'soft dark': 0.025974025974025976,\n",
       " 'drag dragqueen': 0.025974025974025976,\n",
       " 'dragqueen babygoth': 0.025974025974025976,\n",
       " 'babygoth mallgoth': 0.025974025974025976,\n",
       " 'mallgoth goth': 0.025974025974025976,\n",
       " 'goth egirl': 0.025974025974025976,\n",
       " 'egirl gothgf': 0.025974025974025976,\n",
       " 'gothgf night': 0.025974025974025976,\n",
       " 'jelly_blythe': 0.012987012987012988,\n",
       " 'dollartistry': 0.012987012987012988,\n",
       " 'blythedress': 0.012987012987012988,\n",
       " 'blythedoll': 0.012987012987012988,\n",
       " 'blytheoutfit': 0.012987012987012988,\n",
       " 'blythestagram': 0.012987012987012988,\n",
       " 'blytheclothes': 0.012987012987012988,\n",
       " 'blythecustom': 0.012987012987012988,\n",
       " 'customblythe': 0.012987012987012988,\n",
       " 'TianBa0830': 0.012987012987012988,\n",
       " 'bjdmakeup': 0.012987012987012988,\n",
       " 'bjdfaceup': 0.012987012987012988,\n",
       " 'faceup': 0.012987012987012988,\n",
       " 'faceupartist': 0.012987012987012988,\n",
       " 'abjd': 0.012987012987012988,\n",
       " 'bolljointeddoll': 0.012987012987012988,\n",
       " 'bjdphoto': 0.012987012987012988,\n",
       " 'bjdfaceupartist': 0.012987012987012988,\n",
       " 'bjdeyes': 0.012987012987012988,\n",
       " 'Russia': 0.012987012987012988,\n",
       " 'Бывает': 0.012987012987012988,\n",
       " 'вас': 0.012987012987012988,\n",
       " 'творческое': 0.012987012987012988,\n",
       " 'истощение': 0.012987012987012988,\n",
       " 'Думаю': 0.012987012987012988,\n",
       " 'скорее': 0.012987012987012988,\n",
       " 'да': 0.012987012987012988,\n",
       " 'чем': 0.012987012987012988,\n",
       " 'Как': 0.012987012987012988,\n",
       " 'справляетесь': 0.012987012987012988,\n",
       " 'этим': 0.012987012987012988,\n",
       " 'состоянием': 0.012987012987012988,\n",
       " 'Уже': 0.012987012987012988,\n",
       " 'некоторое': 0.012987012987012988,\n",
       " 'время': 0.012987012987012988,\n",
       " 'вдохновения': 0.012987012987012988,\n",
       " '𝓡𝓪𝓺𝓾𝓮𝓵': 0.012987012987012988,\n",
       " '𝓒𝓵𝓮𝓶𝓮𝓷𝓽𝓮': 0.012987012987012988,\n",
       " 'Hi': 0.012987012987012988,\n",
       " 'sweeties': 0.012987012987012988,\n",
       " 'rest': 0.012987012987012988,\n",
       " 'posting': 0.012987012987012988,\n",
       " 'taken': 0.012987012987012988,\n",
       " 'phone': 0.012987012987012988,\n",
       " 'seems': 0.012987012987012988,\n",
       " 'Julia': 0.012987012987012988,\n",
       " 'Gass': 0.012987012987012988,\n",
       " 'SOLD': 0.012987012987012988,\n",
       " 'Hello': 0.012987012987012988,\n",
       " 'Flower': 0.012987012987012988,\n",
       " 'dragon': 0.012987012987012988,\n",
       " 'nice': 0.012987012987012988}"
      ]
     },
     "execution_count": 6,
     "metadata": {},
     "output_type": "execute_result"
    }
   ],
   "source": [
    "ww_ = wordcloud.words_\n",
    "ww_ "
   ]
  },
  {
   "cell_type": "code",
   "execution_count": 8,
   "metadata": {},
   "outputs": [],
   "source": [
    "from PIL import Image\n",
    "import numpy as np\n",
    "from wordcloud import ImageColorGenerator"
   ]
  },
  {
   "cell_type": "code",
   "execution_count": 16,
   "metadata": {},
   "outputs": [],
   "source": [
    "insta = np.array(Image.open('insta.png'))\n",
    "image_colors = ImageColorGenerator(insta)"
   ]
  },
  {
   "cell_type": "code",
   "execution_count": 13,
   "metadata": {},
   "outputs": [],
   "source": [
    "import matplotlib.pyplot as plt\n",
    "%matplotlib inline\n",
    "\n",
    "from wordcloud import WordCloud\n",
    "from wordcloud import WordCloud, STOPWORDS"
   ]
  },
  {
   "cell_type": "code",
   "execution_count": null,
   "metadata": {},
   "outputs": [],
   "source": []
  },
  {
   "cell_type": "code",
   "execution_count": 17,
   "metadata": {},
   "outputs": [
    {
     "ename": "ValueError",
     "evalue": "WordCloud has not been calculated, call generate first.",
     "output_type": "error",
     "traceback": [
      "\u001b[1;31m---------------------------------------------------------------------------\u001b[0m",
      "\u001b[1;31mValueError\u001b[0m                                Traceback (most recent call last)",
      "\u001b[1;32m<ipython-input-17-6428a6789d25>\u001b[0m in \u001b[0;36m<module>\u001b[1;34m\u001b[0m\n\u001b[0;32m      6\u001b[0m )\n\u001b[0;32m      7\u001b[0m \u001b[0mplt\u001b[0m\u001b[1;33m.\u001b[0m\u001b[0mfigure\u001b[0m\u001b[1;33m(\u001b[0m\u001b[0mfigsize\u001b[0m\u001b[1;33m=\u001b[0m\u001b[1;33m(\u001b[0m\u001b[1;36m150\u001b[0m\u001b[1;33m,\u001b[0m\u001b[1;36m150\u001b[0m\u001b[1;33m)\u001b[0m\u001b[1;33m)\u001b[0m\u001b[1;33m\u001b[0m\u001b[1;33m\u001b[0m\u001b[0m\n\u001b[1;32m----> 8\u001b[1;33m \u001b[0mplt\u001b[0m\u001b[1;33m.\u001b[0m\u001b[0mimshow\u001b[0m\u001b[1;33m(\u001b[0m\u001b[0mwordcloud\u001b[0m\u001b[1;33m.\u001b[0m\u001b[0mrecolor\u001b[0m\u001b[1;33m(\u001b[0m\u001b[0mcolor_func\u001b[0m\u001b[1;33m=\u001b[0m\u001b[0mimage_colors\u001b[0m\u001b[1;33m)\u001b[0m\u001b[1;33m,\u001b[0m\u001b[0minterpolation\u001b[0m \u001b[1;33m=\u001b[0m \u001b[1;34m'bilinear'\u001b[0m\u001b[1;33m)\u001b[0m\u001b[1;33m\u001b[0m\u001b[1;33m\u001b[0m\u001b[0m\n\u001b[0m\u001b[0;32m      9\u001b[0m \u001b[0mplt\u001b[0m\u001b[1;33m.\u001b[0m\u001b[0maxis\u001b[0m\u001b[1;33m(\u001b[0m\u001b[1;34m'off'\u001b[0m\u001b[1;33m)\u001b[0m\u001b[1;33m\u001b[0m\u001b[1;33m\u001b[0m\u001b[0m\n\u001b[0;32m     10\u001b[0m \u001b[0mplt\u001b[0m\u001b[1;33m.\u001b[0m\u001b[0mshow\u001b[0m\u001b[1;33m(\u001b[0m\u001b[1;33m)\u001b[0m\u001b[1;33m\u001b[0m\u001b[1;33m\u001b[0m\u001b[0m\n",
      "\u001b[1;32mC:\\ProgramData\\Anaconda3\\lib\\site-packages\\wordcloud\\wordcloud.py\u001b[0m in \u001b[0;36mrecolor\u001b[1;34m(self, random_state, color_func, colormap)\u001b[0m\n\u001b[0;32m    660\u001b[0m         \u001b[1;32mif\u001b[0m \u001b[0misinstance\u001b[0m\u001b[1;33m(\u001b[0m\u001b[0mrandom_state\u001b[0m\u001b[1;33m,\u001b[0m \u001b[0mint\u001b[0m\u001b[1;33m)\u001b[0m\u001b[1;33m:\u001b[0m\u001b[1;33m\u001b[0m\u001b[1;33m\u001b[0m\u001b[0m\n\u001b[0;32m    661\u001b[0m             \u001b[0mrandom_state\u001b[0m \u001b[1;33m=\u001b[0m \u001b[0mRandom\u001b[0m\u001b[1;33m(\u001b[0m\u001b[0mrandom_state\u001b[0m\u001b[1;33m)\u001b[0m\u001b[1;33m\u001b[0m\u001b[1;33m\u001b[0m\u001b[0m\n\u001b[1;32m--> 662\u001b[1;33m         \u001b[0mself\u001b[0m\u001b[1;33m.\u001b[0m\u001b[0m_check_generated\u001b[0m\u001b[1;33m(\u001b[0m\u001b[1;33m)\u001b[0m\u001b[1;33m\u001b[0m\u001b[1;33m\u001b[0m\u001b[0m\n\u001b[0m\u001b[0;32m    663\u001b[0m \u001b[1;33m\u001b[0m\u001b[0m\n\u001b[0;32m    664\u001b[0m         \u001b[1;32mif\u001b[0m \u001b[0mcolor_func\u001b[0m \u001b[1;32mis\u001b[0m \u001b[1;32mNone\u001b[0m\u001b[1;33m:\u001b[0m\u001b[1;33m\u001b[0m\u001b[1;33m\u001b[0m\u001b[0m\n",
      "\u001b[1;32mC:\\ProgramData\\Anaconda3\\lib\\site-packages\\wordcloud\\wordcloud.py\u001b[0m in \u001b[0;36m_check_generated\u001b[1;34m(self)\u001b[0m\n\u001b[0;32m    608\u001b[0m         \u001b[1;34m\"\"\"Check if ``layout_`` was computed, otherwise raise error.\"\"\"\u001b[0m\u001b[1;33m\u001b[0m\u001b[1;33m\u001b[0m\u001b[0m\n\u001b[0;32m    609\u001b[0m         \u001b[1;32mif\u001b[0m \u001b[1;32mnot\u001b[0m \u001b[0mhasattr\u001b[0m\u001b[1;33m(\u001b[0m\u001b[0mself\u001b[0m\u001b[1;33m,\u001b[0m \u001b[1;34m\"layout_\"\u001b[0m\u001b[1;33m)\u001b[0m\u001b[1;33m:\u001b[0m\u001b[1;33m\u001b[0m\u001b[1;33m\u001b[0m\u001b[0m\n\u001b[1;32m--> 610\u001b[1;33m             raise ValueError(\"WordCloud has not been calculated, call generate\"\n\u001b[0m\u001b[0;32m    611\u001b[0m                              \" first.\")\n\u001b[0;32m    612\u001b[0m \u001b[1;33m\u001b[0m\u001b[0m\n",
      "\u001b[1;31mValueError\u001b[0m: WordCloud has not been calculated, call generate first."
     ]
    },
    {
     "data": {
      "text/plain": [
       "<Figure size 10800x10800 with 0 Axes>"
      ]
     },
     "metadata": {},
     "output_type": "display_data"
    }
   ],
   "source": [
    "wordcloud = WordCloud(\n",
    "    width = 864,\n",
    "    height = 864,\n",
    "    background_color=\"white\",\n",
    "    mask = insta\n",
    ")\n",
    "plt.figure(figsize=(150,150))\n",
    "plt.imshow(wordcloud.recolor(color_func=image_colors),interpolation = 'bilinear')\n",
    "plt.axis('off')\n",
    "plt.show()"
   ]
  },
  {
   "cell_type": "code",
   "execution_count": 18,
   "metadata": {},
   "outputs": [],
   "source": [
    "replaceAll= text.replace(\"title title\",\"\")"
   ]
  },
  {
   "cell_type": "code",
   "execution_count": 19,
   "metadata": {},
   "outputs": [
    {
     "data": {
      "text/plain": [
       "'\\ufeff\\n<title>\\n@jelly_blythe on Instagram: “#dollartistry#doll#dolls#art#blythedress#blythe #blythedoll #blytheoutfit #blythestagram #blytheclothes #blythecustom#customblythe…”\\n</title>\\n<title>\\nTianBa0830 on Instagram: “Eyes ♡ ♡ ♡ ♡#bjdmakeup #bjdfaceup #makeup #faceup #faceupartist #abjd #bjddolls #bolljointeddoll #bjdphoto #bjdfaceupartist #bjdeyes…”\\n</title>\\n<title>\\nBlythe Doll Russia on Instagram: “Бывает у вас творческое истощение? 🤔 Думаю скорее да, чем нет. Как справляетесь с этим состоянием? Уже некоторое время нет вдохновения…”\\n</title>\\n<title>\\n❁ 𝓡𝓪𝓺𝓾𝓮𝓵 𝓒𝓵𝓮𝓶𝓮𝓷𝓽𝓮  ❁ on Instagram: “Hi sweeties!! 🖤  I\\'m here again with the rest of the photos of this face-up. I\\'m posting also some of them taken with my phone, as it seems…”\\n</title>\\n<title>\\nJulia Gass on Instagram: “SOLD Hello, my friends! Flower dragon 😍 Have a nice day)🌸 . . #artdoll #arttoy #handmade #creatures #toys #ooak #poseableartdoll #fur…”\\n</title>\\n<title>\\nYoli 🏳️\\u200d🌈💕Theia on Instagram: “Renaissance feeling ✨ . . #smartdoll #smartdollkizuna #kizuna #yumenokizuna #dannychoo #doll #miraisuenaga #culturejapan #dollphoto…”\\n</title>\\n<title>\\nЮлия on Instagram: “Парики/Wigs #ooak #ooakdoll #repaintmonsterhigh #repaintdoll #monsterhigh #monsterhighdoll #doll #ooakmonsterhigh #ooakmonsterhighdoll #mh…”\\n</title>\\n<title>\\nHain (ハイン) on Instagram: “Friend 🧡 . . . #knit #handmade #amigurumi #yarnlove #yarn #手編み #knitting #手作り #handknit #cute #可愛い #crochet #doll #ootd #toy #handmadetoys…”\\n</title>\\n<title>\\nLiveMachinery on Instagram: “Throwback to darker days 🌓 . . . . . . Detail of my piece \"Never.\", currently residing in my living room amongst cats 🐱🐱 #art #artist…”\\n</title>\\n<title>\\nAtypical Retro on Instagram: “Vintage Bradley Doll with tag still attached . $38 Dm for Info . #vintagelove #vintage #doll #precious #sweet #littlegirl #lace #curls…”\\n</title>\\n<title>\\nRibbon Doll on Instagram: “はいポーズ🌻✨📷✨🌻 #doll #posedoll #vintage doll #japanesedoll #cute #kawaii #昭和レトロ #ポーズ人形 #カスタム✂️ #宇山あゆみさん #ひまわりみたいな花🌻 #水玉のワンピース #カゴバッグ #美人…”\\n</title>\\n<title>\\nmasayo keizuka on Instagram: “2019/7/19-21 TAICHUNG 台中藝術博覽會 台中日月千禧酒店9F10 F11 12F 台中市西屯區市政路77號  THZ Galleryから出展させていただきます。 https://2019.art-taipei.com/taichung/tw/ . .…”\\n</title>\\n<title>\\nMune Z on Instagram: “Glitchy Sho . . #bjd #balljointeddoll #doll #vaporwave #vapor #glitch #glitchart #future #futuristic #cyber #cyberpunk #colorful #kawaii…”\\n</title>\\n<title>\\nDinha Reborns👶🏻🇧🇷 on Instagram: “Olha que gato que eu estou,beijinhos do Dudu 💙😍 reborns #reborn #doll #bebereborn #beberebornartes #beberebornrealista #sunny #rebornsunny…”\\n</title>\\n<title>\\n@loveinplastic2 on Instagram: “Bagging up tiny clothes. How do you store/organize your doll clothes? . . . . .#barbie #barbies #barbiedoll #barbiesofinstagram #doll…”\\n</title>\\n<title>\\nDavid García on Instagram: “Tinker bell #tinkerbell #peterpan #disney #fairydolls #glitter #doll #instadoll #dollhouse #dollphotogallery #collector #hadasdisney…”\\n</title>\\n<title>\\nKerry Howard-schmidt on Instagram: “Little red riding CROW ❤️🖤#papermoongallery #artdolls #crow #raven #blackbird #fiberart #woolsculpture #softsculpture #vintage #doll…”\\n</title>\\n<title>\\nMitch Anderson on Instagram: “#art #artist #yegart #yegartist #drawing #pen #penandink #ink #tattoo #tattoos #yegtattoo #edmontontattoo #tattooapprentice #portfolio…”\\n</title>\\n<title>\\nLuxurious Designs on Instagram: “A Goddess or a Princess  @bikbik.official 📸 @niceprintphoto  Now Available for sale and for rent  #luxuriousdesigns #doll #kids_style…”\\n</title>\\n<title>\\n@stray.dream on Instagram: “Sabine normal skin + glitter head, $195. Note there is a small dot on her cheek and a blemish near her brow, as well as various air bubbles…”\\n</title>\\n<title>\\nＣＲＥＤＯ ＡＴＥＬＩＥＲ on Instagram: “A las Princesas todo les queda hermoso. @k eran cur7h ⚜️ Agenda tu cita en nuestro Show Room 📍Poblado - Al lado del tesoro (Medellín)…”\\n</title>\\n<title>\\nTOOI DOLL on Instagram: “Be a unicorn in the field of horses 🦄 Unicorn doll for hampers (min order 30pcs) • • #tooidoll #tooi #doll #handmadedoll #customdoll…”\\n</title>\\n<title>\\nLuxurious Designs on Instagram: “Go big or go home 💓💕 📸 @niceprintphoto  Now Available for sale and for rent  #luxuriousdesigns #doll #kids_style #kidsfashion #model #gown…”\\n</title>\\n<title>\\nT O R R E S    FOTOGRAFOS on Instagram: “•| El pasado se vuelve humo 💨  Model: @ligia.exe  #fashion #stylist #photographer #streetphotography #photo #portraitphotography #smoking…”\\n</title>\\n<title>\\n✟TRAVEL/BEAUTY/MAGIG✟ on Instagram: “Cosas que me hacen feliz, parte mil. . . . . . . . . . .…”\\n</title>\\n<title>\\nTammy chou on Instagram: “No one cares for this but I’m in love #fair #themepark #ferriswheel #terrarium #miniature #doll”\\n</title>\\n<title>\\nSofía on Instagram: “❤️ In love with her  #doll #collection #barbiesilkstone #silkstone #barbiecollector”\\n</title>\\n<title>\\nDanielle Hark on Instagram: “1 of 6 of my new #assemblage/#alteredart visual #poetry pieces published by Compressed: Journal of Creative Arts. I think it is important…”\\n</title>\\n<title>\\nT O R R E S    FOTOGRAFOS on Instagram: “•| Sol de diamantes y brisa de escarcha  Model: @ligia.exe  #fashion #stylist #photographer #streetphotography #photo #portraitphotography…”\\n</title>\\n<title>\\nLuxurious Designs on Instagram: “So precious 😇 @bikbik.official 📸 @niceprintphoto  Now Available for sale and for rent  #luxuriousdesigns #doll #kids_style #kidsfashion…”\\n</title>\\n<title>\\n🌸 ℚ𝕦𝕖𝕖𝕟𝕚𝕖 𝕎𝕒𝕥𝕒𝕟𝕒𝕓𝕖 🌸 on Instagram: “{Kid Bratz Jade, Cloe and Yasmin} three besties hanging out 💕 #bratzdolls #bratz #mattel #mga #bratzkids #doll #dolls #cute #kawaii #love…”\\n</title>\\n<title>\\n🍒Michelle🍒 on Instagram: “Kewpie measures 7” tall $7 plus shipping #kewpie#doll#vintage#thevintagefleamarket”\\n</title>\\n<title>\\nLaura 🧜🏽\\u200d♀️ Carrillo on Instagram: “Annabelle 🔪 worked on this painting today! Super happy with the outcome 👻💖💕 #annabelle #annabellecomeshome #theconjuring #pink #redrose…”\\n</title>\\n<title>\\nThe All Story on Instagram: “This beautiful set of hand-painted, wooden nesting dolls will be part of @benconservato’s show The Changing Things. Opening 5—8pm THIS…”\\n</title>\\n<title>\\nProudly Pink Barbie on Instagram: “🍾🥳 Happy Birthday Grandpa - Here’s To Another 70 Years 🎈🥂💝 • #GrandpaBarbiesBirthday #BarbieDreams #BarbieMattel #DollPhotography…”\\n</title>\\n<title>\\nT O R R E S    FOTOGRAFOS on Instagram: “•| El pasado se vuelve humo 💨  Model: @ligia.exe  #fashion #stylist #photographer #streetphotography #photo #portraitphotography #smoking…”\\n</title>\\n<title>\\nJacqueline Quintanilla on Instagram: “🌹❤️This has to be one of the cutest dolls I have ever made! Her eyes, her curly hair! Ah! I can’t get enough of her!!! She isn’t a Barbie,…”\\n</title>\\n<title>\\n𝕍𝕀ℕℂ𝔼ℕℤ𝕀ℕ𝔸  Doll Sculptor 🧿🤘🏻🌶 on Instagram: “Little Ghost baby 👻“Peritu” born today July 8 2019 @ 5:31 pm his name means fart the story is when I was a kid and I could fall asleep…”\\n</title>\\n<title>\\nRis 20+ BJDs (Hiatus) on Instagram: “Bae. #bae #doll #bjd #bjddoll #bjds #hybrid #dollstagram #toystagram #spacesodaocs #spacesodacrew #icee #spacesodaicee #lake #sunset #rails…”\\n</title>\\n<title>\\n@review_shop on Instagram: “🔆บาร์บี้ เมคอัพแน่น ผมสวยยาว (ผมลอน)พร้อมชุด (สวมอยู่) 🔆พร้อมรองเท้า 8 คู่ และอุปกรณ์💕 ⭐️บริการเพ้นท์เล็บ ฟรี‼️ ❤️ กล่องละ 150 บาท ❤️…”\\n</title>\\n<title>\\nAL on Instagram: “😍😍😍😍👑 #aladdin #jasmine #genie #fun #love #disney #figure #set #collection #bear #disneyworld #fan #jafar #doll #fan #disneyparks #photo…”\\n</title>\\n<title>\\nCheyenne Weisser on Instagram: “@dollightfully my concept art is coming along. I can\\'t wait to see how she turns out! #dollrepaint #ooakdoll #ooak #doll #dollcustom…”\\n</title>\\n<title>\\nSonder Cabbage on Instagram: “Working on something☺️ #character #sondercabbage #characterdesign #oc #pineapple #inspired #doll #dollcustom #fairy #yellow #traditional…”\\n</title>\\n<title>\\nkevin ayón on Instagram: “in the up side down 💀 SWIPE \\n#selfportrait si quieres una playera mandame dm! cualquier diseño de @kgnt._”\\n</title>\\n<title>\\n彦川 侑姫❄️Yuki Hikokawa on Instagram: “ヤマシロヤさんちのぬいぐるみカービィちゃんはお花リボンをつけているの可愛い🌸💝 #カービィ  #kirby #ヤマシロヤ #toyphotograpy #game #nintendo #kawaii #art #instagood #instapic #instagame…”\\n</title>\\n<title>\\nHannah Lewis on Instagram: “This new Boho Babe is up in the Shop! . Made with Linen and cotton and cord... Hair and filling are 💯 Organic Cotton... Wooden button and…”\\n</title>\\n<title>\\nAco on Instagram: “プラバンでブランコに乗る人を作りました。. . 背景に溶け込むようなドレスの透明感がブーツとサンゴで際立ちます。. . . . . Only shrink plastics and colors. No other material. .…”\\n</title>\\n<title>\\nluxurious designs on Instagram: “So precious @bikbik.official 📸 @niceprintphoto  Now Available for sale and for rent  #luxuriousdesigns #doll #kids_style #kidsfashion…”\\n</title>\\n<title>\\nPomm\\'s on Instagram: “\"The last stitches\" ✂️📍 . . . . . . . 365 días después, en una sola pieza al fin . . . . . . . #PelaElDiente #Bhön #sew #doll #yellow #Draw…”\\n</title>\\n<title>\\nluxurious designs on Instagram: “Now Available for sale and for rent  #luxuriousdesigns #doll #kids_style #kidsfashion #model #gown #thetrendykidz #fashionistas_minis…”\\n</title>\\n<title>\\nPeachyville on Instagram: “Up close 🔪 #annabelle #annabellecomeshome #theconjuring #pink #redrose #doll #horrormovie #2019movie #pinkcouch”\\n</title>\\n<title>\\nshoko on Instagram: “Twitterの過去写真から...♡ . . #doll #dolls #dollphotography #dollphotogallery #dollstagram #인형 #人偶 #人形 #bjd #superdollfie #volksdoll #sd_f_81…”\\n</title>\\n<title>\\nOxana Getman R.Ac. on Instagram: “Love my work 😍❤️ #TCM #acupuncture #Chinesemedicine #meridians #doll #health #hapiness #longevity #halifax #dartmouth #bedford #body #mind…”\\n</title>\\n<title>\\nluxurious designs on Instagram: “Now Available for sale and for rent  #luxuriousdesigns #doll #kids_style #kidsfashion #model #gown #thetrendykidz #fashionistas_minis…”\\n</title>\\n<title>\\n🍁aurora_ravello🍁 on Instagram: “💕💕💕😚 mi creación!! . . . . . . .  #animation #ilustración #ilustraciones #ilustracióndigital…”\\n</title>\\n<title>\\nWeSweet 위스윗 on Instagram: “슈가 모찌 인형😍🥰😘💕 - 3차에 걸친 수정 작업 끝에😭😇 슈가 모찌 인형이 세상에 나왔어요💕💓❤️ 넘나 졸귀탱😘🥰😍 라이선싱 페어 위스윗 부스에서  슈가 모찌 인형과 인증샷 찍고 선물 받아가세요🤣😆💕 - #위스윗 #이벤트 #모찌인형…”\\n</title>\\n<title>\\nshoko on Instagram: “Twitterの過去写真から...♡ . . #doll #dolls #dollphotography #dollphotogallery #dollstagram #인형 #人偶 #人形 #bjd #superdollfie #volksdoll #sd_f_81…”\\n</title>\\n<title>\\nAbigail the Doll on Instagram: “Come play with me!\\n#abigail #haunted #doll #creepy #playground”\\n</title>\\n<title>\\nMy Unique Watchung on Instagram: “#strawberryshortcake #vintagelunchbox #strawberryshortcakedoll #1981 #smellslikestrawberries #80s #lunchbox #collectible #collectibletoys…”\\n</title>\\n<title>\\nKrys on Instagram: “Day Two!\\n\\n#doll#ooak#customdoll”\\n</title>\\n<title>\\nPeachyville on Instagram: “Annabelle 💖💕🔪👻 #annabelle #annabellecomeshome #theconjuring #pink #redrose #doll #horrormovie #2019movie #pinkcouch”\\n</title>\\n<title>\\n@zippy_luv on Instagram: “Almost done the face XD #dollightfully #dollightfulstropicalcolab  #ooak #doll #customdoll”\\n</title>\\n<title>\\nMj on Instagram: “LOL SURPRISE OMG #lolsurprise #lolsurpriseomg #doll #lolsurprisedolls #toy #toysrus #toysruscanada #fashion”\\n</title>\\n<title>\\nHoneyBee on Instagram: “Posted #unboxingvideo for #wildheartscrew #dolls including #kennaroswell on my #youtubechannel 📷 🔥 👽 Link in my bio. #doll #dollcollector…”\\n</title>\\n<title>\\nRohini Robinson on Instagram: “👼🏾❤️ #cutie #sweetness #mommysgirl #smile #princess #love #summer #toronto #curlyhair #doll”\\n</title>\\n<title>\\nMikaela on Instagram: “Nao deixe a maldade do mundo tirar o melhor de você 📸 . . . . . . . . . . . . . . . . . . . #frases #cabelo #hair #style #fashionkids…”\\n</title>\\n<title>\\nミーナ ミーナ on Instagram: “Ohayou minna 🙃 Sally多啦雪chan😘 (iamdorasnow) Ins:@iamdorasnow I love loli face(๑˃̵ᴗ˂̵) I still have a good photo!🤗 This girl is cute too! I…”\\n</title>\\n<title>\\nPHILLIP NUVEEN on Instagram: “Versailles meets modern #phillipnuveen #miniatures #antique #interiordesign #design #gold #concrete #archdaily #modern #scale #dollhouse…”\\n</title>\\n<title>\\nTyler on Instagram: “Look at my hat, my hat is amazing. \\n@anitrashy \\n#doll #minatures #hat #obitsu #obitsumale #obitsuboy #obitsu21 #21cmdoll #dollstagram”\\n</title>\\n<title>\\n•  𝓜𝓲𝓵𝓵𝓲𝓮 𝓑𝓵𝓪𝓴𝓮  • on Instagram: “#darkgirl #aesthetic #softgrunge #soft #dark #makeup #drag #dragqueen #babygoth #mallgoth #goth #egirl #gothgf #night #new #cosplay #pale…”\\n</title>\\n<title>\\nMiss Yvonne on Instagram: “This gem was at Goodwill....and that is where it stayed. #goodwill #thriftshopfinds #creepy #harlequin #doll”\\n</title>\\n<title>\\n•  𝓜𝓲𝓵𝓵𝓲𝓮 𝓑𝓵𝓪𝓴𝓮  • on Instagram: “Montana Doll  #darkgirl #aesthetic #softgrunge #soft #dark #makeup #drag #dragqueen #babygoth #mallgoth #goth #egirl #gothgf #night #new…”\\n</title>\\n<title>\\nMark Jimenez on Instagram: “Happy 4th . . . .  #portrait #portraitphotography #travel #travelpic #wander #wanderpic #wanderlust #nikon #nikonphoto #NikonNoFilter #cute…”\\n</title>\\n<title>\\n🌸 ℚ𝕦𝕖𝕖𝕟𝕚𝕖 𝕎𝕒𝕥𝕒𝕟𝕒𝕓𝕖 🌸 on Instagram: “{Monster High Freaky Fusion Sirena von Boo} #mh #monsterhigh #monsterhighdolls #mermaid #doll #dolls #mattel #sirenavonboo I love her fin…”\\n</title>\\n<title>\\nsuegray jewelry on Instagram: “Charlotte and Sam chilling at the lake. . . #frozencharlotte #dollring #frozencharlottes #frozencharlottedolls #doll #dolljewelry #chilling…”\\n</title>\\n<title>\\nAnn on Instagram: “#pullip #pullipdoll #pullipphoto #pullipcraziia #doll #dollphoto  Этот аккаунт Инстаграма мог бы называться так же, но мне недостаёт…”\\n</title>\\n<title>\\nWolfina on Instagram: “I\\'m changing things around as the eyes are being shipped and I am ESTATIC about this!! #bjd #bjdmaking #bjdsculpting #bjdcustom #bjdwip…”\\n</title>\\n'"
      ]
     },
     "execution_count": 19,
     "metadata": {},
     "output_type": "execute_result"
    }
   ],
   "source": [
    "replaceAll"
   ]
  },
  {
   "cell_type": "code",
   "execution_count": 26,
   "metadata": {},
   "outputs": [],
   "source": [
    "replaceAll= text.replace(\"#\",\" \")\n",
    "replaceAll= text.replace(\"<\",\" \")\n",
    "replaceAll= text.replace(\"/\",\" \")\n",
    "replaceAll= text.replace(\">\",\" \")\n",
    "replaceAll= text.replace(\"\\\"\",\" \")"
   ]
  },
  {
   "cell_type": "code",
   "execution_count": 27,
   "metadata": {},
   "outputs": [
    {
     "data": {
      "text/plain": [
       "\"\\ufeff\\n<title>\\n@jelly_blythe on Instagram: “#dollartistry#doll#dolls#art#blythedress#blythe #blythedoll #blytheoutfit #blythestagram #blytheclothes #blythecustom#customblythe…”\\n</title>\\n<title>\\nTianBa0830 on Instagram: “Eyes ♡ ♡ ♡ ♡#bjdmakeup #bjdfaceup #makeup #faceup #faceupartist #abjd #bjddolls #bolljointeddoll #bjdphoto #bjdfaceupartist #bjdeyes…”\\n</title>\\n<title>\\nBlythe Doll Russia on Instagram: “Бывает у вас творческое истощение? 🤔 Думаю скорее да, чем нет. Как справляетесь с этим состоянием? Уже некоторое время нет вдохновения…”\\n</title>\\n<title>\\n❁ 𝓡𝓪𝓺𝓾𝓮𝓵 𝓒𝓵𝓮𝓶𝓮𝓷𝓽𝓮  ❁ on Instagram: “Hi sweeties!! 🖤  I'm here again with the rest of the photos of this face-up. I'm posting also some of them taken with my phone, as it seems…”\\n</title>\\n<title>\\nJulia Gass on Instagram: “SOLD Hello, my friends! Flower dragon 😍 Have a nice day)🌸 . . #artdoll #arttoy #handmade #creatures #toys #ooak #poseableartdoll #fur…”\\n</title>\\n<title>\\nYoli 🏳️\\u200d🌈💕Theia on Instagram: “Renaissance feeling ✨ . . #smartdoll #smartdollkizuna #kizuna #yumenokizuna #dannychoo #doll #miraisuenaga #culturejapan #dollphoto…”\\n</title>\\n<title>\\nЮлия on Instagram: “Парики/Wigs #ooak #ooakdoll #repaintmonsterhigh #repaintdoll #monsterhigh #monsterhighdoll #doll #ooakmonsterhigh #ooakmonsterhighdoll #mh…”\\n</title>\\n<title>\\nHain (ハイン) on Instagram: “Friend 🧡 . . . #knit #handmade #amigurumi #yarnlove #yarn #手編み #knitting #手作り #handknit #cute #可愛い #crochet #doll #ootd #toy #handmadetoys…”\\n</title>\\n<title>\\nLiveMachinery on Instagram: “Throwback to darker days 🌓 . . . . . . Detail of my piece  Never. , currently residing in my living room amongst cats 🐱🐱 #art #artist…”\\n</title>\\n<title>\\nAtypical Retro on Instagram: “Vintage Bradley Doll with tag still attached . $38 Dm for Info . #vintagelove #vintage #doll #precious #sweet #littlegirl #lace #curls…”\\n</title>\\n<title>\\nRibbon Doll on Instagram: “はいポーズ🌻✨📷✨🌻 #doll #posedoll #vintage doll #japanesedoll #cute #kawaii #昭和レトロ #ポーズ人形 #カスタム✂️ #宇山あゆみさん #ひまわりみたいな花🌻 #水玉のワンピース #カゴバッグ #美人…”\\n</title>\\n<title>\\nmasayo keizuka on Instagram: “2019/7/19-21 TAICHUNG 台中藝術博覽會 台中日月千禧酒店9F10 F11 12F 台中市西屯區市政路77號  THZ Galleryから出展させていただきます。 https://2019.art-taipei.com/taichung/tw/ . .…”\\n</title>\\n<title>\\nMune Z on Instagram: “Glitchy Sho . . #bjd #balljointeddoll #doll #vaporwave #vapor #glitch #glitchart #future #futuristic #cyber #cyberpunk #colorful #kawaii…”\\n</title>\\n<title>\\nDinha Reborns👶🏻🇧🇷 on Instagram: “Olha que gato que eu estou,beijinhos do Dudu 💙😍 reborns #reborn #doll #bebereborn #beberebornartes #beberebornrealista #sunny #rebornsunny…”\\n</title>\\n<title>\\n@loveinplastic2 on Instagram: “Bagging up tiny clothes. How do you store/organize your doll clothes? . . . . .#barbie #barbies #barbiedoll #barbiesofinstagram #doll…”\\n</title>\\n<title>\\nDavid García on Instagram: “Tinker bell #tinkerbell #peterpan #disney #fairydolls #glitter #doll #instadoll #dollhouse #dollphotogallery #collector #hadasdisney…”\\n</title>\\n<title>\\nKerry Howard-schmidt on Instagram: “Little red riding CROW ❤️🖤#papermoongallery #artdolls #crow #raven #blackbird #fiberart #woolsculpture #softsculpture #vintage #doll…”\\n</title>\\n<title>\\nMitch Anderson on Instagram: “#art #artist #yegart #yegartist #drawing #pen #penandink #ink #tattoo #tattoos #yegtattoo #edmontontattoo #tattooapprentice #portfolio…”\\n</title>\\n<title>\\nLuxurious Designs on Instagram: “A Goddess or a Princess  @bikbik.official 📸 @niceprintphoto  Now Available for sale and for rent  #luxuriousdesigns #doll #kids_style…”\\n</title>\\n<title>\\n@stray.dream on Instagram: “Sabine normal skin + glitter head, $195. Note there is a small dot on her cheek and a blemish near her brow, as well as various air bubbles…”\\n</title>\\n<title>\\nＣＲＥＤＯ ＡＴＥＬＩＥＲ on Instagram: “A las Princesas todo les queda hermoso. @k eran cur7h ⚜️ Agenda tu cita en nuestro Show Room 📍Poblado - Al lado del tesoro (Medellín)…”\\n</title>\\n<title>\\nTOOI DOLL on Instagram: “Be a unicorn in the field of horses 🦄 Unicorn doll for hampers (min order 30pcs) • • #tooidoll #tooi #doll #handmadedoll #customdoll…”\\n</title>\\n<title>\\nLuxurious Designs on Instagram: “Go big or go home 💓💕 📸 @niceprintphoto  Now Available for sale and for rent  #luxuriousdesigns #doll #kids_style #kidsfashion #model #gown…”\\n</title>\\n<title>\\nT O R R E S    FOTOGRAFOS on Instagram: “•| El pasado se vuelve humo 💨  Model: @ligia.exe  #fashion #stylist #photographer #streetphotography #photo #portraitphotography #smoking…”\\n</title>\\n<title>\\n✟TRAVEL/BEAUTY/MAGIG✟ on Instagram: “Cosas que me hacen feliz, parte mil. . . . . . . . . . .…”\\n</title>\\n<title>\\nTammy chou on Instagram: “No one cares for this but I’m in love #fair #themepark #ferriswheel #terrarium #miniature #doll”\\n</title>\\n<title>\\nSofía on Instagram: “❤️ In love with her  #doll #collection #barbiesilkstone #silkstone #barbiecollector”\\n</title>\\n<title>\\nDanielle Hark on Instagram: “1 of 6 of my new #assemblage/#alteredart visual #poetry pieces published by Compressed: Journal of Creative Arts. I think it is important…”\\n</title>\\n<title>\\nT O R R E S    FOTOGRAFOS on Instagram: “•| Sol de diamantes y brisa de escarcha  Model: @ligia.exe  #fashion #stylist #photographer #streetphotography #photo #portraitphotography…”\\n</title>\\n<title>\\nLuxurious Designs on Instagram: “So precious 😇 @bikbik.official 📸 @niceprintphoto  Now Available for sale and for rent  #luxuriousdesigns #doll #kids_style #kidsfashion…”\\n</title>\\n<title>\\n🌸 ℚ𝕦𝕖𝕖𝕟𝕚𝕖 𝕎𝕒𝕥𝕒𝕟𝕒𝕓𝕖 🌸 on Instagram: “{Kid Bratz Jade, Cloe and Yasmin} three besties hanging out 💕 #bratzdolls #bratz #mattel #mga #bratzkids #doll #dolls #cute #kawaii #love…”\\n</title>\\n<title>\\n🍒Michelle🍒 on Instagram: “Kewpie measures 7” tall $7 plus shipping #kewpie#doll#vintage#thevintagefleamarket”\\n</title>\\n<title>\\nLaura 🧜🏽\\u200d♀️ Carrillo on Instagram: “Annabelle 🔪 worked on this painting today! Super happy with the outcome 👻💖💕 #annabelle #annabellecomeshome #theconjuring #pink #redrose…”\\n</title>\\n<title>\\nThe All Story on Instagram: “This beautiful set of hand-painted, wooden nesting dolls will be part of @benconservato’s show The Changing Things. Opening 5—8pm THIS…”\\n</title>\\n<title>\\nProudly Pink Barbie on Instagram: “🍾🥳 Happy Birthday Grandpa - Here’s To Another 70 Years 🎈🥂💝 • #GrandpaBarbiesBirthday #BarbieDreams #BarbieMattel #DollPhotography…”\\n</title>\\n<title>\\nT O R R E S    FOTOGRAFOS on Instagram: “•| El pasado se vuelve humo 💨  Model: @ligia.exe  #fashion #stylist #photographer #streetphotography #photo #portraitphotography #smoking…”\\n</title>\\n<title>\\nJacqueline Quintanilla on Instagram: “🌹❤️This has to be one of the cutest dolls I have ever made! Her eyes, her curly hair! Ah! I can’t get enough of her!!! She isn’t a Barbie,…”\\n</title>\\n<title>\\n𝕍𝕀ℕℂ𝔼ℕℤ𝕀ℕ𝔸  Doll Sculptor 🧿🤘🏻🌶 on Instagram: “Little Ghost baby 👻“Peritu” born today July 8 2019 @ 5:31 pm his name means fart the story is when I was a kid and I could fall asleep…”\\n</title>\\n<title>\\nRis 20+ BJDs (Hiatus) on Instagram: “Bae. #bae #doll #bjd #bjddoll #bjds #hybrid #dollstagram #toystagram #spacesodaocs #spacesodacrew #icee #spacesodaicee #lake #sunset #rails…”\\n</title>\\n<title>\\n@review_shop on Instagram: “🔆บาร์บี้ เมคอัพแน่น ผมสวยยาว (ผมลอน)พร้อมชุด (สวมอยู่) 🔆พร้อมรองเท้า 8 คู่ และอุปกรณ์💕 ⭐️บริการเพ้นท์เล็บ ฟรี‼️ ❤️ กล่องละ 150 บาท ❤️…”\\n</title>\\n<title>\\nAL on Instagram: “😍😍😍😍👑 #aladdin #jasmine #genie #fun #love #disney #figure #set #collection #bear #disneyworld #fan #jafar #doll #fan #disneyparks #photo…”\\n</title>\\n<title>\\nCheyenne Weisser on Instagram: “@dollightfully my concept art is coming along. I can't wait to see how she turns out! #dollrepaint #ooakdoll #ooak #doll #dollcustom…”\\n</title>\\n<title>\\nSonder Cabbage on Instagram: “Working on something☺️ #character #sondercabbage #characterdesign #oc #pineapple #inspired #doll #dollcustom #fairy #yellow #traditional…”\\n</title>\\n<title>\\nkevin ayón on Instagram: “in the up side down 💀 SWIPE \\n#selfportrait si quieres una playera mandame dm! cualquier diseño de @kgnt._”\\n</title>\\n<title>\\n彦川 侑姫❄️Yuki Hikokawa on Instagram: “ヤマシロヤさんちのぬいぐるみカービィちゃんはお花リボンをつけているの可愛い🌸💝 #カービィ  #kirby #ヤマシロヤ #toyphotograpy #game #nintendo #kawaii #art #instagood #instapic #instagame…”\\n</title>\\n<title>\\nHannah Lewis on Instagram: “This new Boho Babe is up in the Shop! . Made with Linen and cotton and cord... Hair and filling are 💯 Organic Cotton... Wooden button and…”\\n</title>\\n<title>\\nAco on Instagram: “プラバンでブランコに乗る人を作りました。. . 背景に溶け込むようなドレスの透明感がブーツとサンゴで際立ちます。. . . . . Only shrink plastics and colors. No other material. .…”\\n</title>\\n<title>\\nluxurious designs on Instagram: “So precious @bikbik.official 📸 @niceprintphoto  Now Available for sale and for rent  #luxuriousdesigns #doll #kids_style #kidsfashion…”\\n</title>\\n<title>\\nPomm's on Instagram: “ The last stitches  ✂️📍 . . . . . . . 365 días después, en una sola pieza al fin . . . . . . . #PelaElDiente #Bhön #sew #doll #yellow #Draw…”\\n</title>\\n<title>\\nluxurious designs on Instagram: “Now Available for sale and for rent  #luxuriousdesigns #doll #kids_style #kidsfashion #model #gown #thetrendykidz #fashionistas_minis…”\\n</title>\\n<title>\\nPeachyville on Instagram: “Up close 🔪 #annabelle #annabellecomeshome #theconjuring #pink #redrose #doll #horrormovie #2019movie #pinkcouch”\\n</title>\\n<title>\\nshoko on Instagram: “Twitterの過去写真から...♡ . . #doll #dolls #dollphotography #dollphotogallery #dollstagram #인형 #人偶 #人形 #bjd #superdollfie #volksdoll #sd_f_81…”\\n</title>\\n<title>\\nOxana Getman R.Ac. on Instagram: “Love my work 😍❤️ #TCM #acupuncture #Chinesemedicine #meridians #doll #health #hapiness #longevity #halifax #dartmouth #bedford #body #mind…”\\n</title>\\n<title>\\nluxurious designs on Instagram: “Now Available for sale and for rent  #luxuriousdesigns #doll #kids_style #kidsfashion #model #gown #thetrendykidz #fashionistas_minis…”\\n</title>\\n<title>\\n🍁aurora_ravello🍁 on Instagram: “💕💕💕😚 mi creación!! . . . . . . .  #animation #ilustración #ilustraciones #ilustracióndigital…”\\n</title>\\n<title>\\nWeSweet 위스윗 on Instagram: “슈가 모찌 인형😍🥰😘💕 - 3차에 걸친 수정 작업 끝에😭😇 슈가 모찌 인형이 세상에 나왔어요💕💓❤️ 넘나 졸귀탱😘🥰😍 라이선싱 페어 위스윗 부스에서  슈가 모찌 인형과 인증샷 찍고 선물 받아가세요🤣😆💕 - #위스윗 #이벤트 #모찌인형…”\\n</title>\\n<title>\\nshoko on Instagram: “Twitterの過去写真から...♡ . . #doll #dolls #dollphotography #dollphotogallery #dollstagram #인형 #人偶 #人形 #bjd #superdollfie #volksdoll #sd_f_81…”\\n</title>\\n<title>\\nAbigail the Doll on Instagram: “Come play with me!\\n#abigail #haunted #doll #creepy #playground”\\n</title>\\n<title>\\nMy Unique Watchung on Instagram: “#strawberryshortcake #vintagelunchbox #strawberryshortcakedoll #1981 #smellslikestrawberries #80s #lunchbox #collectible #collectibletoys…”\\n</title>\\n<title>\\nKrys on Instagram: “Day Two!\\n\\n#doll#ooak#customdoll”\\n</title>\\n<title>\\nPeachyville on Instagram: “Annabelle 💖💕🔪👻 #annabelle #annabellecomeshome #theconjuring #pink #redrose #doll #horrormovie #2019movie #pinkcouch”\\n</title>\\n<title>\\n@zippy_luv on Instagram: “Almost done the face XD #dollightfully #dollightfulstropicalcolab  #ooak #doll #customdoll”\\n</title>\\n<title>\\nMj on Instagram: “LOL SURPRISE OMG #lolsurprise #lolsurpriseomg #doll #lolsurprisedolls #toy #toysrus #toysruscanada #fashion”\\n</title>\\n<title>\\nHoneyBee on Instagram: “Posted #unboxingvideo for #wildheartscrew #dolls including #kennaroswell on my #youtubechannel 📷 🔥 👽 Link in my bio. #doll #dollcollector…”\\n</title>\\n<title>\\nRohini Robinson on Instagram: “👼🏾❤️ #cutie #sweetness #mommysgirl #smile #princess #love #summer #toronto #curlyhair #doll”\\n</title>\\n<title>\\nMikaela on Instagram: “Nao deixe a maldade do mundo tirar o melhor de você 📸 . . . . . . . . . . . . . . . . . . . #frases #cabelo #hair #style #fashionkids…”\\n</title>\\n<title>\\nミーナ ミーナ on Instagram: “Ohayou minna 🙃 Sally多啦雪chan😘 (iamdorasnow) Ins:@iamdorasnow I love loli face(๑˃̵ᴗ˂̵) I still have a good photo!🤗 This girl is cute too! I…”\\n</title>\\n<title>\\nPHILLIP NUVEEN on Instagram: “Versailles meets modern #phillipnuveen #miniatures #antique #interiordesign #design #gold #concrete #archdaily #modern #scale #dollhouse…”\\n</title>\\n<title>\\nTyler on Instagram: “Look at my hat, my hat is amazing. \\n@anitrashy \\n#doll #minatures #hat #obitsu #obitsumale #obitsuboy #obitsu21 #21cmdoll #dollstagram”\\n</title>\\n<title>\\n•  𝓜𝓲𝓵𝓵𝓲𝓮 𝓑𝓵𝓪𝓴𝓮  • on Instagram: “#darkgirl #aesthetic #softgrunge #soft #dark #makeup #drag #dragqueen #babygoth #mallgoth #goth #egirl #gothgf #night #new #cosplay #pale…”\\n</title>\\n<title>\\nMiss Yvonne on Instagram: “This gem was at Goodwill....and that is where it stayed. #goodwill #thriftshopfinds #creepy #harlequin #doll”\\n</title>\\n<title>\\n•  𝓜𝓲𝓵𝓵𝓲𝓮 𝓑𝓵𝓪𝓴𝓮  • on Instagram: “Montana Doll  #darkgirl #aesthetic #softgrunge #soft #dark #makeup #drag #dragqueen #babygoth #mallgoth #goth #egirl #gothgf #night #new…”\\n</title>\\n<title>\\nMark Jimenez on Instagram: “Happy 4th . . . .  #portrait #portraitphotography #travel #travelpic #wander #wanderpic #wanderlust #nikon #nikonphoto #NikonNoFilter #cute…”\\n</title>\\n<title>\\n🌸 ℚ𝕦𝕖𝕖𝕟𝕚𝕖 𝕎𝕒𝕥𝕒𝕟𝕒𝕓𝕖 🌸 on Instagram: “{Monster High Freaky Fusion Sirena von Boo} #mh #monsterhigh #monsterhighdolls #mermaid #doll #dolls #mattel #sirenavonboo I love her fin…”\\n</title>\\n<title>\\nsuegray jewelry on Instagram: “Charlotte and Sam chilling at the lake. . . #frozencharlotte #dollring #frozencharlottes #frozencharlottedolls #doll #dolljewelry #chilling…”\\n</title>\\n<title>\\nAnn on Instagram: “#pullip #pullipdoll #pullipphoto #pullipcraziia #doll #dollphoto  Этот аккаунт Инстаграма мог бы называться так же, но мне недостаёт…”\\n</title>\\n<title>\\nWolfina on Instagram: “I'm changing things around as the eyes are being shipped and I am ESTATIC about this!! #bjd #bjdmaking #bjdsculpting #bjdcustom #bjdwip…”\\n</title>\\n\""
      ]
     },
     "execution_count": 27,
     "metadata": {},
     "output_type": "execute_result"
    }
   ],
   "source": [
    "replaceAll"
   ]
  },
  {
   "cell_type": "code",
   "execution_count": 5,
   "metadata": {},
   "outputs": [],
   "source": [
    "from PIL import Image\n",
    "\n",
    "\n",
    "\n",
    "image = Image.open('insta.png')\n",
    "\n",
    "resize_image = image.resize((150,150))\n",
    "\n",
    "resize_image.save('insta1.png')"
   ]
  },
  {
   "cell_type": "code",
   "execution_count": null,
   "metadata": {},
   "outputs": [],
   "source": []
  },
  {
   "cell_type": "code",
   "execution_count": null,
   "metadata": {},
   "outputs": [],
   "source": []
  },
  {
   "cell_type": "code",
   "execution_count": null,
   "metadata": {},
   "outputs": [],
   "source": []
  },
  {
   "cell_type": "code",
   "execution_count": null,
   "metadata": {},
   "outputs": [],
   "source": []
  },
  {
   "cell_type": "code",
   "execution_count": null,
   "metadata": {},
   "outputs": [],
   "source": []
  },
  {
   "cell_type": "code",
   "execution_count": null,
   "metadata": {},
   "outputs": [],
   "source": []
  },
  {
   "cell_type": "code",
   "execution_count": null,
   "metadata": {},
   "outputs": [],
   "source": []
  }
 ],
 "metadata": {
  "kernelspec": {
   "display_name": "Python 3",
   "language": "python",
   "name": "python3"
  },
  "language_info": {
   "codemirror_mode": {
    "name": "ipython",
    "version": 3
   },
   "file_extension": ".py",
   "mimetype": "text/x-python",
   "name": "python",
   "nbconvert_exporter": "python",
   "pygments_lexer": "ipython3",
   "version": "3.7.3"
  }
 },
 "nbformat": 4,
 "nbformat_minor": 2
}

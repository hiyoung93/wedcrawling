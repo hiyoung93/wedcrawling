{
 "cells": [
  {
   "cell_type": "code",
   "execution_count": 82,
   "metadata": {},
   "outputs": [],
   "source": [
    "import pandas as pd\n",
    "import re"
   ]
  },
  {
   "cell_type": "code",
   "execution_count": 83,
   "metadata": {},
   "outputs": [],
   "source": [
    "df = pd.read_csv('s.csv',encoding='utf-16') # 저장한 csv파일을 가지고 와서 인코딩값을 utf-16으로 주고 가져오기"
   ]
  },
  {
   "cell_type": "code",
   "execution_count": 84,
   "metadata": {},
   "outputs": [
    {
     "data": {
      "text/plain": [
       "RangeIndex(start=0, stop=1199, step=1)"
      ]
     },
     "execution_count": 84,
     "metadata": {},
     "output_type": "execute_result"
    }
   ],
   "source": [
    "index = df.index; index"
   ]
  },
  {
   "cell_type": "code",
   "execution_count": 85,
   "metadata": {},
   "outputs": [
    {
     "data": {
      "text/plain": [
       "Index(['Unnamed: 0', 'data1', 'data2'], dtype='object')"
      ]
     },
     "execution_count": 85,
     "metadata": {},
     "output_type": "execute_result"
    }
   ],
   "source": [
    "columns = df.columns\n",
    "columns"
   ]
  },
  {
   "cell_type": "code",
   "execution_count": 86,
   "metadata": {},
   "outputs": [
    {
     "data": {
      "text/plain": [
       "int64     1\n",
       "object    2\n",
       "dtype: int64"
      ]
     },
     "execution_count": 86,
     "metadata": {},
     "output_type": "execute_result"
    }
   ],
   "source": [
    "df.get_dtype_counts()"
   ]
  },
  {
   "cell_type": "code",
   "execution_count": 87,
   "metadata": {},
   "outputs": [
    {
     "data": {
      "text/plain": [
       "0     “#dollartistry#doll#dolls#art#blythedress#bly...\n",
       "1     “Eyes ♡ ♡ ♡ ♡#bjdmakeup #bjdfaceup #makeup #f...\n",
       "2     “Бывает у вас творческое истощение? 🤔 Думаю с...\n",
       "3     “Hi sweeties!! 🖤  I'm here again with the res...\n",
       "4     “SOLD Hello, my friends! Flower dragon 😍 Have...\n",
       "Name: data2, dtype: object"
      ]
     },
     "execution_count": 87,
     "metadata": {},
     "output_type": "execute_result"
    }
   ],
   "source": [
    "tag = df['data2']\n",
    "tag.head()"
   ]
  },
  {
   "cell_type": "code",
   "execution_count": 88,
   "metadata": {},
   "outputs": [
    {
     "data": {
      "text/plain": [
       " “#pale #girl #makeup #vaporwave #pastel #indie #sad #emo #grunge #dark #kawaii #anime  #tumblr #japan #fashion #neon #doll…”                                                                                          19\n",
       " “Who wants a Scooby snacks ? . . . . . . . . . . . #60s #scoobydoo #socooby #scoobydoodondeestas #scoobydoowhereareyou #daphneblake…”                                                                                  5\n",
       " “10 anos realizando sonhos em Joinville e Brasil. BABY ART REBORN by Ledir ❤️❤️contato Whats - 47 - 98822-7334 - Ateliê Baby Art Reborn by…”                                                                           4\n",
       " “#doll#doll_photo#ドール#ドールアクセサリー#ポピーパーカー#poppyparker#PoppyParker#FR#fashionroyalty#ファッションロイヤリティ#ファッションロイヤリティー”                                                                                                          4\n",
       " “#Frankie #FrankieStein #FrankieTwins #Twins #MonsterHigh #MH #monsterhighdolls #HelloKitty #Lolita #LolitaStyle #LolitaFashion #Harajuku…”                                                                            4\n",
       " “#Doll #dollfie #dollfiedream #dollstagram  #dd #volks #ドルフィードリーム #ドール #うちのこかわいい”                                                                                                                                      4\n",
       " “Tosya tiny bjd ❤️ for those,who was interested - pre-order will be very soon!✌️ #bjd #bjddoll #artbjd #artdoll #resindoll #resinbjd…”                                                                                 3\n",
       " “Prototype newborn baby Frida by so talented sculptor Lorraine Yophi 💗💗💗 available for sale  Preorder 25 July #reborndoll #reborncommunity…”                                                                           3\n",
       " “#trans #transexual #transgenders #toptrans #lesbian #like4like #topmodel #food #heavymetal #gay #photooftheday #glamour #pic #music #night…”                                                                          3\n",
       " “\"I am a creature of the Fey Prepare to give your soul away My spell is passion and it is art My song can bind a human heart And if you…”                                                                              3\n",
       " “💓                                                                                                                                                                                                                     3\n",
       " “#beautiful #doll #photo #cutedoll #qualitytimes #preciousmoments 🥰😍😘🤗”                                                                                                                                                3\n",
       " “#toybody #beauty #1/6scale #onesixthscale #tombraider #laracroft #lara #jungle #skull  #model #female # body #toyphotography #doll #toy…”                                                                             2\n",
       " “Sweet Patience realborn by Bountiful Baby. She is a 3D scan of a real baby with Down Syndrome. The most realistic reborn kit you can get.…”                                                                           2\n",
       " “Now Available for sale and for rent  #luxuriousdesigns #doll #kids_style #kidsfashion #model #gown #thetrendykidz #fashionistas_minis…”                                                                               2\n",
       " “Kiss Kiss 💋 Hug Hug ❤️ #welliwisher #welliewishers #welliewisherdoll #welliewisherswilla #agwelliewishers #doll #willawelliewishers…”                                                                                 2\n",
       " “Follow Us on @waxbeautylondon ❗️ 💆🏻‍♀️With this premium quality, the LVL Nouveau lashes help to lengthen, create a thicker appearance and…”                                                                           2\n",
       " “#Minifee #minifee #minifeemirwen #minifeechloe #minifeekarsh #Minifeedinbraids #minifeewig #minifeesircca #minifeechole #minifeet…”                                                                                   2\n",
       " “オッドアイ                                                                                                                                                                                                                 2\n",
       " “#アルルはいいぞ                                                                                                                                                                                                              2\n",
       " “★ ローズレーヌHPはプロフィールから飛べます。  #プーリップ #ブライス #リカちゃん  #ジェニー #ドール服 #ドールドレス  #アウトフィット #ハンドメイド  #Pullip #neoblythe #doll #dolloutfit #dolldress…”                                                                               2\n",
       " “Twitterの過去写真から...♡ . . #doll #dolls #dollphotography #dollphotogallery #dollstagram #인형 #人偶 #人形 #bjd #superdollfie #volksdoll #sd_f_81…”                                                                              2\n",
       " “✨Spacer✨ • • • • •…”                                                                                                                                                                                                  2\n",
       " “상큼한 캐스티💛 한동안 사진안찍었다고 사진찍기가 어렵다😂 . . . #쪼로리아트 #쫄리 #쫄리캐스터네츠 #인형 #인형놀이 #인놀 #돌스타그램 #키덜트 #룸박스 #수돌즈 #마르게리타 #jjororiart #jjolly #doll #dollstagram…”                                                                         2\n",
       " “B A I L A R I N A 🌸🌸🌸 hecho a mano con amor. . . . . . #ballet #balletdolls #doll #babyfriends #bodyballet #girl #Maluprincess…”                                                                                      2\n",
       " “#thegazette#gazette#anime#otaku#harujuku#visualkei#jrock#gay#peace#cute#cutegay#kik#kikboy#czechgay#prague#bjd#doll#japan#japanfashion#japanstreet#emo#ghotic#thegazette#alternative#scene#hardcore#piercing#emo”     2\n",
       " “_ _ 9 #july 2019/ ' Tokyo 'Japan ____ _ _ 💕💍✝ _#آروم_جونـمـی _ @mhrad_shaw_official _ _ ##پرستـش #طُ_خدای_منی #loveyou #iloveyou  # #doll…”                                                                           2\n",
       " “Толстовки 300 руб                                                                                                                                                                                                     2\n",
       " “PLAY SCHOOL! 🖤💛❤️ In celebration of NAIDOC week, Play School has aired a very special ‘Welcome To Country’ episode —  well worth the…”                                                                                1\n",
       " “LOL Surprise Sparkle Series, VRQT, Common.  #lolsurprise #lolsurprisedoll #vrqt #lolsurprisesparkleseries #doll #hottoys2019 #blindbag…”                                                                              1\n",
       "                                                                                                                                                                                                                       ..\n",
       " “Little girl lost found by Urban Exploring with Kappy in his explore of the vintage stone car home.  She looks sad.  #abandoned…”                                                                                      1\n",
       " “＊2019.07.09＊ 。 実はrurukoより先にお迎えしていたパレちゃん♥️ やっと登場できました(*´▽｀*) あの箱入りのボブ？なパレちゃんをヘアカットしておかっぱに(^^)♥️ 自己満ですがかわいい♥️♥️ 。…”                                                                                                     1\n",
       " “Al fin, una foto decente...                                                                                                                                                                                           1\n",
       " “Un petit moment de plaisir dans notre piscine ..🌸💜💕 #holaladoll #holala #holalachico #doll #dolls #flamant #flamantrose #piscine #bouee…”                                                                             1\n",
       " “Batom trezz maravilhosa 17,00$ #make #maquiagem #love #universodamaquiagem #beauty #store #makes #beleza #lips #balm #hudabeauty #nars…”                                                                              1\n",
       " “Cosas que me hacen feliz, parte mil. . . . . . . . . . .…”                                                                                                                                                            1\n",
       " “Linda bonequinha de biscuit. 😍🥰                                                                                                                                                                                       1\n",
       " “hello to all dear friends !! I sell my Lilliriu the doll is a mini dollfiedream perfect condition like new !! the doll comes with its…”                                                                               1\n",
       " “Annabelle 💖💕🔪👻 #annabelle #annabellecomeshome #theconjuring #pink #redrose #doll #horrormovie #2019movie #pinkcouch”                                                                                                  1\n",
       " “Sweet 1600 dance🧛🏻‍♀️💕🎁                                                                                                                                                                                               1\n",
       " “Aproveite sua vida faça o q vc pode, pois saiba a vida passa parece um vento ela vooa.                                                                                                                                1\n",
       " “Once you've tasted my sweet cherry lips 🍒  You'll be desperate, need another hit 💋 Looks can fool you, baby I'm a trick 👻  Show you things…”                                                                          1\n",
       " “Yard sale haul! 💗 slide to see next picture of the yard sale i went to.I found this yard sale through Craigslist! So always check…”                                                                                   1\n",
       " “hot girl summer on a smaller, more plastique scale with the new fashion dolls by @lolsurprise 🙈🙈 not a rescued barbie, but had to find this…”                                                                         1\n",
       " “I'm always up for a new adventure! (Swipe for more photos)  #snapstar #aspen #wanderlust #aspensnapstar #snapstarsquad #travel #adventure…”                                                                           1\n",
       " “👼🏻”                                                                                                                                                                                                                   1\n",
       " “It took some time but I finally got the MOMO DD I purchased from my friend @mrfjmgdolls repainted. And she turned out so nice! She's a…”                                                                              1\n",
       " “ヤマシロヤさんちのぬいぐるみカービィちゃんはお花リボンをつけているの可愛い🌸💝 #カービィ  #kirby #ヤマシロヤ #toyphotograpy #game #nintendo #kawaii #art #instagood #instapic #instagame…”                                                                            1\n",
       " “Dear friends. I want to share my version of the amazing ❤️ Baby Charlotte by @lauraleeoriginals ❤️ on the pre-order line will begin July 11…”                                                                         1\n",
       " “Ahh achei tão gracinha essa doll... não é da linha Barbie, é uma réplica, mas é tão linda! Os cílios são grandes, os sapatos são lindos e a…”                                                                         1\n",
       " “❤️❤️”                                                                                                                                                                                                                 1\n",
       " “오줌싸개 인형 &amp; 안데르센 양배추 인형. 아마도 남아있는 장난감 중에 가장 오래된 것들                                                                                                                                                                  1\n",
       " “WELCOME REGINA. 💖 nuestra muñequita recibiendo a Regina en el cuarto de maternidad de su mami #withlove #baby #ballet #babygirl…”                                                                                     1\n",
       " “Dia❄️ . . . #barbiemadetomove #barbieclothes #barbiemaromba #barbiestyle #barbiedoll #barbiere #barbielover #barbieblank #barbielife…”                                                                                1\n",
       " “, 호랑이 기운이 솟아나요 🐯  #뜨개질 #뜨개스타그램 #뜨개인형 #손뜨개인형 #코바늘 #코바늘인형 #핸드메이드 #handmade #handmadedoll #ハンドメイド #手作り #手芸 #아미구루미 #あみぐるみ #amigurumi…”                                                                                    1\n",
       " “Here's my next victim...... sorry I've been absent for so long I've been busy working on 2 different swaps. And I have to keep them a…”                                                                               1\n",
       " “Spotlight on Captain Hook! This is one of my favorite Disney dolls! He’s so unique and detailed! And very high quality! (Made by Mattel)…”                                                                            1\n",
       " “Stock photo of Rallee. Has she been found yet?💕 . . . . #wildheartscrew #RalleeRadmore #wildheartscrewdoll #wildheartscrewdolls…”                                                                                     1\n",
       " “You’ll wish you did me better 💗 dress from @littlebowtin”                                                                                                                                                             1\n",
       " “ARIEL - Credits @disneycollectiblefans 🐚 #ariel #thelittlemermaid #littlemermaid #mermaid #sea #seawitch #witch #ursula #vanessa #disney…”                                                                            1\n",
       "Name: data2, Length: 866, dtype: int64"
      ]
     },
     "execution_count": 88,
     "metadata": {},
     "output_type": "execute_result"
    }
   ],
   "source": [
    "tag.value_counts() #데이터중 같은 값을 가지고 있는 애들 몇개인지 알려주는 것"
   ]
  },
  {
   "cell_type": "code",
   "execution_count": 89,
   "metadata": {},
   "outputs": [
    {
     "data": {
      "text/plain": [
       "0    False\n",
       "1    False\n",
       "2    False\n",
       "3    False\n",
       "4    False\n",
       "Name: data2, dtype: bool"
      ]
     },
     "execution_count": 89,
     "metadata": {},
     "output_type": "execute_result"
    }
   ],
   "source": [
    "tag.isnull().head()"
   ]
  },
  {
   "cell_type": "code",
   "execution_count": 197,
   "metadata": {},
   "outputs": [
    {
     "ename": "NameError",
     "evalue": "name 'write' is not defined",
     "output_type": "error",
     "traceback": [
      "\u001b[1;31m---------------------------------------------------------------------------\u001b[0m",
      "\u001b[1;31mNameError\u001b[0m                                 Traceback (most recent call last)",
      "\u001b[1;32m<ipython-input-197-8f8f56a42ae1>\u001b[0m in \u001b[0;36m<module>\u001b[1;34m\u001b[0m\n\u001b[1;32m----> 1\u001b[1;33m \u001b[0mwrite\u001b[0m\u001b[1;33m(\u001b[0m\u001b[0mtag\u001b[0m\u001b[1;33m)\u001b[0m\u001b[1;33m\u001b[0m\u001b[1;33m\u001b[0m\u001b[0m\n\u001b[0m",
      "\u001b[1;31mNameError\u001b[0m: name 'write' is not defined"
     ]
    }
   ],
   "source": [
    "write(tag)"
   ]
  },
  {
   "cell_type": "code",
   "execution_count": 193,
   "metadata": {},
   "outputs": [],
   "source": [
    "# 결측치 제거하기\n",
    "tag= tag.dropna()"
   ]
  },
  {
   "cell_type": "code",
   "execution_count": 206,
   "metadata": {},
   "outputs": [],
   "source": [
    "f = open('sw.txt', 'a', -1,'utf-8')\n",
    "print(tag, file = f)\n",
    "f.close()"
   ]
  },
  {
   "cell_type": "code",
   "execution_count": 208,
   "metadata": {
    "scrolled": true
   },
   "outputs": [
    {
     "data": {
      "text/plain": [
       "0        “#dollartistry#doll#dolls#art#blythedress#bly...\n",
       "1        “Eyes ♡ ♡ ♡ ♡#bjdmakeup #bjdfaceup #makeup #f...\n",
       "2        “Бывает у вас творческое истощение? 🤔 Думаю с...\n",
       "3        “Hi sweeties!! 🖤  I'm here again with the res...\n",
       "4        “SOLD Hello, my friends! Flower dragon 😍 Have...\n",
       "5        “Renaissance feeling ✨ . . #smartdoll #smartd...\n",
       "6        “Парики/Wigs #ooak #ooakdoll #repaintmonsterh...\n",
       "7        “Friend 🧡 . . . #knit #handmade #amigurumi #y...\n",
       "8        “Throwback to darker days 🌓 . . . . . . Detai...\n",
       "9        “Vintage Bradley Doll with tag still attached...\n",
       "10       “はいポーズ🌻✨📷✨🌻 #doll #posedoll #vintage doll #ja...\n",
       "12       “Glitchy Sho . . #bjd #balljointeddoll #doll ...\n",
       "13       “Olha que gato que eu estou,beijinhos do Dudu...\n",
       "14       “Bagging up tiny clothes. How do you store/or...\n",
       "15       “Tinker bell #tinkerbell #peterpan #disney #f...\n",
       "16       “Little red riding CROW ❤️🖤#papermoongallery ...\n",
       "17       “#art #artist #yegart #yegartist #drawing #pe...\n",
       "18       “A Goddess or a Princess  @bikbik.official 📸 ...\n",
       "19       “Sabine normal skin + glitter head, $195. Not...\n",
       "20       “A las Princesas todo les queda hermoso. @k e...\n",
       "21       “Be a unicorn in the field of horses 🦄 Unicor...\n",
       "22       “Go big or go home 💓💕 📸 @niceprintphoto  Now ...\n",
       "24       “Cosas que me hacen feliz, parte mil. . . . ....\n",
       "25       “No one cares for this but I’m in love #fair ...\n",
       "26       “❤️ In love with her  #doll #collection #barb...\n",
       "29       “So precious 😇 @bikbik.official 📸 @niceprintp...\n",
       "30       “{Kid Bratz Jade, Cloe and Yasmin} three best...\n",
       "31       “Kewpie measures 7” tall $7 plus shipping #ke...\n",
       "32       “Annabelle 🔪 worked on this painting today! S...\n",
       "33       “This beautiful set of hand-painted, wooden n...\n",
       "                              ...                        \n",
       "1162     “The Gwen Stefani (“Wind It Up”) Doll has arr...\n",
       "1163     “🌼🌼🌼 #instagood #art #pink #artist #beautiful...\n",
       "1164     “Blue Night 🌒✨ I’m so busy! I don’t have time...\n",
       "1165     “also, big thank you to my friends and my fam...\n",
       "1166                          “Back to Black and White 🤘”\n",
       "1167     “This dress is so old but everyone loves it s...\n",
       "1168     “พวกกุญแจสร้างสรรค์ ส่องสว่าง พวกกุญแจของขวัญ...\n",
       "1169     “when i’m on that stage, my worries disappear...\n",
       "1170     “Очень нравится и прическа, и мейк. Вообще оч...\n",
       "1171                                      “Hey pessoas!!!\n",
       "1175     ““To sing a song Sebastian wrote, her voice i...\n",
       "1176     “Mirror, mirror on the wall, who's the best C...\n",
       "1177     “💃💃 #doll #dollmaking #docka #green #grön #do...\n",
       "1178     “Sometimes girls just want the pretty &amp; s...\n",
       "1180     “thank you to all the fans, followers, and dg...\n",
       "1181     “My little Babylon head is here!!!! Another f...\n",
       "1182                         “Al fin, una foto decente...\n",
       "1184     “Do you do scary? #annabelle #doll #horrormov...\n",
       "1185     “paulina really was that bitch 💗 also danny p...\n",
       "1186     “Preparing new order for my lovely customers ...\n",
       "1187     “Snapchat 👻 Diii_jana #face #love #fashion #m...\n",
       "1188     “Малышка ростом 32 см умеет сидеть и отлично ...\n",
       "1189     “My god of death (Harper’s boyfriend) has a n...\n",
       "1190     “Je voulais prendre #Alice en photo... juste ...\n",
       "1191     “Much like his Biblical namesake, little Solo...\n",
       "1192     “A VENDRE  Pullip fc par Polka doll Fabric.  ...\n",
       "1193     “Tomando el sol!! #dollbeauty #dollphotos #do...\n",
       "1194                                                   “🎨\n",
       "1197     “You can find all these furniture in my  www....\n",
       "1198     “À VENDRE.  #pullipfc #pulliplunatokidoki #pu...\n",
       "Name: data2, Length: 928, dtype: object"
      ]
     },
     "execution_count": 208,
     "metadata": {},
     "output_type": "execute_result"
    }
   ],
   "source": [
    "tag"
   ]
  },
  {
   "cell_type": "code",
   "execution_count": 124,
   "metadata": {},
   "outputs": [],
   "source": [
    "df = re.findall('[\\w]+',tag[1])"
   ]
  },
  {
   "cell_type": "code",
   "execution_count": 12,
   "metadata": {},
   "outputs": [],
   "source": [
    "df_1 = tag.tolist()  # list로 변환하기"
   ]
  },
  {
   "cell_type": "code",
   "execution_count": 134,
   "metadata": {},
   "outputs": [
    {
     "data": {
      "text/plain": [
       "' “Glitchy Sho . . #bjd #balljointeddoll #doll #vaporwave #vapor #glitch #glitchart #future #futuristic #cyber #cyberpunk #colorful #kawaii…”'"
      ]
     },
     "execution_count": 134,
     "metadata": {},
     "output_type": "execute_result"
    }
   ],
   "source": [
    "tag[12]"
   ]
  },
  {
   "cell_type": "code",
   "execution_count": 164,
   "metadata": {},
   "outputs": [
    {
     "data": {
      "text/plain": [
       "' “friend 🧡 . . . #knit #handmade #amigurumi #yarnlove #yarn #手編み #knitting #手作り #handknit #cute #可愛い #crochet #doll #ootd #toy #handmadetoys…”'"
      ]
     },
     "execution_count": 164,
     "metadata": {},
     "output_type": "execute_result"
    }
   ],
   "source": [
    "tag[7].lower()#소문자로 변경하기"
   ]
  },
  {
   "cell_type": "code",
   "execution_count": 181,
   "metadata": {},
   "outputs": [
    {
     "data": {
      "text/plain": [
       "['Wigs',\n",
       " 'ooak',\n",
       " 'ooakdoll',\n",
       " 'repaintmonsterhigh',\n",
       " 'repaintdoll',\n",
       " 'monsterhigh',\n",
       " 'monsterhighdoll',\n",
       " 'doll',\n",
       " 'ooakmonsterhigh',\n",
       " 'ooakmonsterhighdoll',\n",
       " 'mh']"
      ]
     },
     "execution_count": 181,
     "metadata": {},
     "output_type": "execute_result"
    }
   ],
   "source": [
    "df = re.findall('[\\w]+',word1); df"
   ]
  },
  {
   "cell_type": "code",
   "execution_count": 188,
   "metadata": {},
   "outputs": [
    {
     "ename": "AttributeError",
     "evalue": "'int' object has no attribute 'lower'",
     "output_type": "error",
     "traceback": [
      "\u001b[1;31m---------------------------------------------------------------------------\u001b[0m",
      "\u001b[1;31mAttributeError\u001b[0m                            Traceback (most recent call last)",
      "\u001b[1;32m<ipython-input-188-d68654833f6e>\u001b[0m in \u001b[0;36m<module>\u001b[1;34m\u001b[0m\n\u001b[1;32m----> 1\u001b[1;33m \u001b[0mtag\u001b[0m\u001b[1;33m.\u001b[0m\u001b[0mplot\u001b[0m\u001b[1;33m(\u001b[0m\u001b[1;36m30\u001b[0m\u001b[1;33m)\u001b[0m\u001b[1;33m\u001b[0m\u001b[1;33m\u001b[0m\u001b[0m\n\u001b[0m",
      "\u001b[1;32mC:\\ProgramData\\Anaconda3\\lib\\site-packages\\pandas\\plotting\\_core.py\u001b[0m in \u001b[0;36m__call__\u001b[1;34m(self, kind, ax, figsize, use_index, title, grid, legend, style, logx, logy, loglog, xticks, yticks, xlim, ylim, rot, fontsize, colormap, table, yerr, xerr, label, secondary_y, **kwds)\u001b[0m\n\u001b[0;32m   2740\u001b[0m                            \u001b[0mcolormap\u001b[0m\u001b[1;33m=\u001b[0m\u001b[0mcolormap\u001b[0m\u001b[1;33m,\u001b[0m \u001b[0mtable\u001b[0m\u001b[1;33m=\u001b[0m\u001b[0mtable\u001b[0m\u001b[1;33m,\u001b[0m \u001b[0myerr\u001b[0m\u001b[1;33m=\u001b[0m\u001b[0myerr\u001b[0m\u001b[1;33m,\u001b[0m\u001b[1;33m\u001b[0m\u001b[1;33m\u001b[0m\u001b[0m\n\u001b[0;32m   2741\u001b[0m                            \u001b[0mxerr\u001b[0m\u001b[1;33m=\u001b[0m\u001b[0mxerr\u001b[0m\u001b[1;33m,\u001b[0m \u001b[0mlabel\u001b[0m\u001b[1;33m=\u001b[0m\u001b[0mlabel\u001b[0m\u001b[1;33m,\u001b[0m \u001b[0msecondary_y\u001b[0m\u001b[1;33m=\u001b[0m\u001b[0msecondary_y\u001b[0m\u001b[1;33m,\u001b[0m\u001b[1;33m\u001b[0m\u001b[1;33m\u001b[0m\u001b[0m\n\u001b[1;32m-> 2742\u001b[1;33m                            **kwds)\n\u001b[0m\u001b[0;32m   2743\u001b[0m     \u001b[0m__call__\u001b[0m\u001b[1;33m.\u001b[0m\u001b[0m__doc__\u001b[0m \u001b[1;33m=\u001b[0m \u001b[0mplot_series\u001b[0m\u001b[1;33m.\u001b[0m\u001b[0m__doc__\u001b[0m\u001b[1;33m\u001b[0m\u001b[1;33m\u001b[0m\u001b[0m\n\u001b[0;32m   2744\u001b[0m \u001b[1;33m\u001b[0m\u001b[0m\n",
      "\u001b[1;32mC:\\ProgramData\\Anaconda3\\lib\\site-packages\\pandas\\plotting\\_core.py\u001b[0m in \u001b[0;36mplot_series\u001b[1;34m(data, kind, ax, figsize, use_index, title, grid, legend, style, logx, logy, loglog, xticks, yticks, xlim, ylim, rot, fontsize, colormap, table, yerr, xerr, label, secondary_y, **kwds)\u001b[0m\n\u001b[0;32m   1996\u001b[0m                  \u001b[0myerr\u001b[0m\u001b[1;33m=\u001b[0m\u001b[0myerr\u001b[0m\u001b[1;33m,\u001b[0m \u001b[0mxerr\u001b[0m\u001b[1;33m=\u001b[0m\u001b[0mxerr\u001b[0m\u001b[1;33m,\u001b[0m\u001b[1;33m\u001b[0m\u001b[1;33m\u001b[0m\u001b[0m\n\u001b[0;32m   1997\u001b[0m                  \u001b[0mlabel\u001b[0m\u001b[1;33m=\u001b[0m\u001b[0mlabel\u001b[0m\u001b[1;33m,\u001b[0m \u001b[0msecondary_y\u001b[0m\u001b[1;33m=\u001b[0m\u001b[0msecondary_y\u001b[0m\u001b[1;33m,\u001b[0m\u001b[1;33m\u001b[0m\u001b[1;33m\u001b[0m\u001b[0m\n\u001b[1;32m-> 1998\u001b[1;33m                  **kwds)\n\u001b[0m\u001b[0;32m   1999\u001b[0m \u001b[1;33m\u001b[0m\u001b[0m\n\u001b[0;32m   2000\u001b[0m \u001b[1;33m\u001b[0m\u001b[0m\n",
      "\u001b[1;32mC:\\ProgramData\\Anaconda3\\lib\\site-packages\\pandas\\plotting\\_core.py\u001b[0m in \u001b[0;36m_plot\u001b[1;34m(data, x, y, subplots, ax, kind, **kwds)\u001b[0m\n\u001b[0;32m   1729\u001b[0m def _plot(data, x=None, y=None, subplots=False,\n\u001b[0;32m   1730\u001b[0m           ax=None, kind='line', **kwds):\n\u001b[1;32m-> 1731\u001b[1;33m     \u001b[0mkind\u001b[0m \u001b[1;33m=\u001b[0m \u001b[0m_get_standard_kind\u001b[0m\u001b[1;33m(\u001b[0m\u001b[0mkind\u001b[0m\u001b[1;33m.\u001b[0m\u001b[0mlower\u001b[0m\u001b[1;33m(\u001b[0m\u001b[1;33m)\u001b[0m\u001b[1;33m.\u001b[0m\u001b[0mstrip\u001b[0m\u001b[1;33m(\u001b[0m\u001b[1;33m)\u001b[0m\u001b[1;33m)\u001b[0m\u001b[1;33m\u001b[0m\u001b[1;33m\u001b[0m\u001b[0m\n\u001b[0m\u001b[0;32m   1732\u001b[0m     \u001b[1;32mif\u001b[0m \u001b[0mkind\u001b[0m \u001b[1;32min\u001b[0m \u001b[0m_all_kinds\u001b[0m\u001b[1;33m:\u001b[0m\u001b[1;33m\u001b[0m\u001b[1;33m\u001b[0m\u001b[0m\n\u001b[0;32m   1733\u001b[0m         \u001b[0mklass\u001b[0m \u001b[1;33m=\u001b[0m \u001b[0m_plot_klass\u001b[0m\u001b[1;33m[\u001b[0m\u001b[0mkind\u001b[0m\u001b[1;33m]\u001b[0m\u001b[1;33m\u001b[0m\u001b[1;33m\u001b[0m\u001b[0m\n",
      "\u001b[1;31mAttributeError\u001b[0m: 'int' object has no attribute 'lower'"
     ]
    }
   ],
   "source": [
    "tag.plot(30)"
   ]
  },
  {
   "cell_type": "code",
   "execution_count": null,
   "metadata": {},
   "outputs": [],
   "source": []
  },
  {
   "cell_type": "code",
   "execution_count": null,
   "metadata": {},
   "outputs": [],
   "source": []
  },
  {
   "cell_type": "code",
   "execution_count": null,
   "metadata": {},
   "outputs": [],
   "source": []
  },
  {
   "cell_type": "code",
   "execution_count": null,
   "metadata": {},
   "outputs": [],
   "source": []
  },
  {
   "cell_type": "code",
   "execution_count": 180,
   "metadata": {},
   "outputs": [
    {
     "data": {
      "text/plain": [
       "'Wigs ooak ooakdoll repaintmonsterhigh repaintdoll monsterhigh monsterhighdoll doll ooakmonsterhigh ooakmonsterhighdoll mh'"
      ]
     },
     "execution_count": 180,
     "metadata": {},
     "output_type": "execute_result"
    }
   ],
   "source": [
    "word1 = \" \".join(re.findall(\"[a-zA-Z]+\", tag[6]));word1 # 영어만 남기기\n"
   ]
  },
  {
   "cell_type": "code",
   "execution_count": 175,
   "metadata": {},
   "outputs": [],
   "source": [
    "import nltk"
   ]
  },
  {
   "cell_type": "code",
   "execution_count": 176,
   "metadata": {},
   "outputs": [],
   "source": [
    "en = nltk.Text(tag)"
   ]
  },
  {
   "cell_type": "code",
   "execution_count": 177,
   "metadata": {},
   "outputs": [
    {
     "data": {
      "text/plain": [
       "<Text:  “#dollartistry#doll#dolls#art#blythedress#blythe #blythedoll #blytheoutfit #blythestagram #blytheclothes #blythecustom#customblythe…”  “Eyes ♡ ♡ ♡ ♡#bjdmakeup #bjdfaceup #makeup #faceup #faceupartist #abjd #bjddolls #bolljointeddoll #bjdphoto #bjdfaceupartist #bjdeyes…”  “Бывает у вас творческое истощение? 🤔 Думаю скорее да, чем нет. Как справляетесь с этим состоянием? Уже некоторое время нет вдохновения…”  “Hi sweeties!! 🖤  I'm here again with the rest of the photos of this face-up. I'm posting also some of them taken with my phone, as it seems…”  “SOLD Hello, my friends! Flower dragon 😍 Have a nice day)🌸 . . #artdoll #arttoy #handmade #creatures #toys #ooak #poseableartdoll #fur…”  “Renaissance feeling ✨ . . #smartdoll #smartdollkizuna #kizuna #yumenokizuna #dannychoo #doll #miraisuenaga #culturejapan #dollphoto…”  “Парики/Wigs #ooak #ooakdoll #repaintmonsterhigh #repaintdoll #monsterhigh #monsterhighdoll #doll #ooakmonsterhigh #ooakmonsterhighdoll #mh…”  “Friend 🧡 . . . #knit #handmade #amigurumi #yarnlove #yarn #手編み #knitting #手作り #handknit #cute #可愛い #crochet #doll #ootd #toy #handmadetoys…”...>"
      ]
     },
     "execution_count": 177,
     "metadata": {},
     "output_type": "execute_result"
    }
   ],
   "source": [
    "en"
   ]
  },
  {
   "cell_type": "code",
   "execution_count": 212,
   "metadata": {},
   "outputs": [
    {
     "data": {
      "text/plain": [
       "'dollartistry'"
      ]
     },
     "execution_count": 212,
     "metadata": {},
     "output_type": "execute_result"
    }
   ],
   "source": [
    "tag[10]"
   ]
  },
  {
   "cell_type": "code",
   "execution_count": 211,
   "metadata": {},
   "outputs": [
    {
     "data": {
      "text/plain": [
       "[' “',\n",
       " 'dollartistry',\n",
       " 'doll',\n",
       " 'dolls',\n",
       " 'art',\n",
       " 'blythedress',\n",
       " 'blythe ',\n",
       " 'blythedoll ',\n",
       " 'blytheoutfit ',\n",
       " 'blythestagram ',\n",
       " 'blytheclothes ',\n",
       " 'blythecustom',\n",
       " 'customblythe…”']"
      ]
     },
     "execution_count": 211,
     "metadata": {},
     "output_type": "execute_result"
    }
   ],
   "source": [
    "tag = df_1[0].split('#');tag # list를 하나씩 하나의 파일로 저장하기"
   ]
  },
  {
   "cell_type": "code",
   "execution_count": 26,
   "metadata": {},
   "outputs": [],
   "source": [
    "f = open('tag.txt', 'a', -1,'utf-8')\n",
    "print(tag, file=f)\n",
    "f.close()"
   ]
  },
  {
   "cell_type": "code",
   "execution_count": 209,
   "metadata": {},
   "outputs": [
    {
     "ename": "KeyError",
     "evalue": "11",
     "output_type": "error",
     "traceback": [
      "\u001b[1;31m---------------------------------------------------------------------------\u001b[0m",
      "\u001b[1;31mKeyError\u001b[0m                                  Traceback (most recent call last)",
      "\u001b[1;32m<ipython-input-209-82ec3437b84f>\u001b[0m in \u001b[0;36m<module>\u001b[1;34m\u001b[0m\n\u001b[0;32m      1\u001b[0m \u001b[1;32mfor\u001b[0m \u001b[0mi\u001b[0m \u001b[1;32min\u001b[0m \u001b[0mrange\u001b[0m\u001b[1;33m(\u001b[0m\u001b[1;36m0\u001b[0m\u001b[1;33m,\u001b[0m\u001b[1;36m950\u001b[0m\u001b[1;33m)\u001b[0m \u001b[1;33m:\u001b[0m\u001b[1;33m\u001b[0m\u001b[1;33m\u001b[0m\u001b[0m\n\u001b[1;32m----> 2\u001b[1;33m     \u001b[0mdf\u001b[0m \u001b[1;33m=\u001b[0m \u001b[0mre\u001b[0m\u001b[1;33m.\u001b[0m\u001b[0mfindall\u001b[0m\u001b[1;33m(\u001b[0m\u001b[1;34m'[\\w]+'\u001b[0m\u001b[1;33m,\u001b[0m\u001b[0mtag\u001b[0m\u001b[1;33m[\u001b[0m\u001b[0mi\u001b[0m\u001b[1;33m]\u001b[0m\u001b[1;33m)\u001b[0m\u001b[1;33m\u001b[0m\u001b[1;33m\u001b[0m\u001b[0m\n\u001b[0m\u001b[0;32m      3\u001b[0m     \u001b[0mf\u001b[0m \u001b[1;33m=\u001b[0m \u001b[0mopen\u001b[0m\u001b[1;33m(\u001b[0m\u001b[1;34m'de.txt'\u001b[0m\u001b[1;33m,\u001b[0m \u001b[1;34m'a'\u001b[0m\u001b[1;33m,\u001b[0m \u001b[1;33m-\u001b[0m\u001b[1;36m1\u001b[0m\u001b[1;33m,\u001b[0m\u001b[1;34m'utf-8'\u001b[0m\u001b[1;33m)\u001b[0m\u001b[1;33m\u001b[0m\u001b[1;33m\u001b[0m\u001b[0m\n\u001b[0;32m      4\u001b[0m     \u001b[0mprint\u001b[0m\u001b[1;33m(\u001b[0m\u001b[0mdf\u001b[0m\u001b[1;33m,\u001b[0m \u001b[0mfile\u001b[0m \u001b[1;33m=\u001b[0m \u001b[0mf\u001b[0m\u001b[1;33m)\u001b[0m\u001b[1;33m\u001b[0m\u001b[1;33m\u001b[0m\u001b[0m\n\u001b[0;32m      5\u001b[0m     \u001b[0mf\u001b[0m\u001b[1;33m.\u001b[0m\u001b[0mclose\u001b[0m\u001b[1;33m(\u001b[0m\u001b[1;33m)\u001b[0m\u001b[1;33m\u001b[0m\u001b[1;33m\u001b[0m\u001b[0m\n",
      "\u001b[1;32mC:\\ProgramData\\Anaconda3\\lib\\site-packages\\pandas\\core\\series.py\u001b[0m in \u001b[0;36m__getitem__\u001b[1;34m(self, key)\u001b[0m\n\u001b[0;32m    866\u001b[0m         \u001b[0mkey\u001b[0m \u001b[1;33m=\u001b[0m \u001b[0mcom\u001b[0m\u001b[1;33m.\u001b[0m\u001b[0mapply_if_callable\u001b[0m\u001b[1;33m(\u001b[0m\u001b[0mkey\u001b[0m\u001b[1;33m,\u001b[0m \u001b[0mself\u001b[0m\u001b[1;33m)\u001b[0m\u001b[1;33m\u001b[0m\u001b[1;33m\u001b[0m\u001b[0m\n\u001b[0;32m    867\u001b[0m         \u001b[1;32mtry\u001b[0m\u001b[1;33m:\u001b[0m\u001b[1;33m\u001b[0m\u001b[1;33m\u001b[0m\u001b[0m\n\u001b[1;32m--> 868\u001b[1;33m             \u001b[0mresult\u001b[0m \u001b[1;33m=\u001b[0m \u001b[0mself\u001b[0m\u001b[1;33m.\u001b[0m\u001b[0mindex\u001b[0m\u001b[1;33m.\u001b[0m\u001b[0mget_value\u001b[0m\u001b[1;33m(\u001b[0m\u001b[0mself\u001b[0m\u001b[1;33m,\u001b[0m \u001b[0mkey\u001b[0m\u001b[1;33m)\u001b[0m\u001b[1;33m\u001b[0m\u001b[1;33m\u001b[0m\u001b[0m\n\u001b[0m\u001b[0;32m    869\u001b[0m \u001b[1;33m\u001b[0m\u001b[0m\n\u001b[0;32m    870\u001b[0m             \u001b[1;32mif\u001b[0m \u001b[1;32mnot\u001b[0m \u001b[0mis_scalar\u001b[0m\u001b[1;33m(\u001b[0m\u001b[0mresult\u001b[0m\u001b[1;33m)\u001b[0m\u001b[1;33m:\u001b[0m\u001b[1;33m\u001b[0m\u001b[1;33m\u001b[0m\u001b[0m\n",
      "\u001b[1;32mC:\\ProgramData\\Anaconda3\\lib\\site-packages\\pandas\\core\\indexes\\base.py\u001b[0m in \u001b[0;36mget_value\u001b[1;34m(self, series, key)\u001b[0m\n\u001b[0;32m   4373\u001b[0m         \u001b[1;32mtry\u001b[0m\u001b[1;33m:\u001b[0m\u001b[1;33m\u001b[0m\u001b[1;33m\u001b[0m\u001b[0m\n\u001b[0;32m   4374\u001b[0m             return self._engine.get_value(s, k,\n\u001b[1;32m-> 4375\u001b[1;33m                                           tz=getattr(series.dtype, 'tz', None))\n\u001b[0m\u001b[0;32m   4376\u001b[0m         \u001b[1;32mexcept\u001b[0m \u001b[0mKeyError\u001b[0m \u001b[1;32mas\u001b[0m \u001b[0me1\u001b[0m\u001b[1;33m:\u001b[0m\u001b[1;33m\u001b[0m\u001b[1;33m\u001b[0m\u001b[0m\n\u001b[0;32m   4377\u001b[0m             \u001b[1;32mif\u001b[0m \u001b[0mlen\u001b[0m\u001b[1;33m(\u001b[0m\u001b[0mself\u001b[0m\u001b[1;33m)\u001b[0m \u001b[1;33m>\u001b[0m \u001b[1;36m0\u001b[0m \u001b[1;32mand\u001b[0m \u001b[1;33m(\u001b[0m\u001b[0mself\u001b[0m\u001b[1;33m.\u001b[0m\u001b[0mholds_integer\u001b[0m\u001b[1;33m(\u001b[0m\u001b[1;33m)\u001b[0m \u001b[1;32mor\u001b[0m \u001b[0mself\u001b[0m\u001b[1;33m.\u001b[0m\u001b[0mis_boolean\u001b[0m\u001b[1;33m(\u001b[0m\u001b[1;33m)\u001b[0m\u001b[1;33m)\u001b[0m\u001b[1;33m:\u001b[0m\u001b[1;33m\u001b[0m\u001b[1;33m\u001b[0m\u001b[0m\n",
      "\u001b[1;32mpandas/_libs/index.pyx\u001b[0m in \u001b[0;36mpandas._libs.index.IndexEngine.get_value\u001b[1;34m()\u001b[0m\n",
      "\u001b[1;32mpandas/_libs/index.pyx\u001b[0m in \u001b[0;36mpandas._libs.index.IndexEngine.get_value\u001b[1;34m()\u001b[0m\n",
      "\u001b[1;32mpandas/_libs/index.pyx\u001b[0m in \u001b[0;36mpandas._libs.index.IndexEngine.get_loc\u001b[1;34m()\u001b[0m\n",
      "\u001b[1;32mpandas/_libs/hashtable_class_helper.pxi\u001b[0m in \u001b[0;36mpandas._libs.hashtable.Int64HashTable.get_item\u001b[1;34m()\u001b[0m\n",
      "\u001b[1;32mpandas/_libs/hashtable_class_helper.pxi\u001b[0m in \u001b[0;36mpandas._libs.hashtable.Int64HashTable.get_item\u001b[1;34m()\u001b[0m\n",
      "\u001b[1;31mKeyError\u001b[0m: 11"
     ]
    }
   ],
   "source": [
    "for i in range(0,950) :\n",
    "    df = re.findall('[\\w]+',tag[i])\n",
    "    f = open('de.txt', 'a', -1,'utf-8')\n",
    "    print(df, file = f)\n",
    "    f.close()"
   ]
  },
  {
   "cell_type": "code",
   "execution_count": 131,
   "metadata": {},
   "outputs": [],
   "source": [
    "f = open('h.txt', 'r', -1,'utf-8')\n",
    "f.close()"
   ]
  },
  {
   "cell_type": "code",
   "execution_count": 60,
   "metadata": {},
   "outputs": [
    {
     "data": {
      "text/plain": [
       "<_io.TextIOWrapper name='h.txt' mode='r' encoding='utf-8'>"
      ]
     },
     "execution_count": 60,
     "metadata": {},
     "output_type": "execute_result"
    }
   ],
   "source": [
    "f"
   ]
  },
  {
   "cell_type": "code",
   "execution_count": 61,
   "metadata": {},
   "outputs": [],
   "source": [
    "pattern = '[^\\w\\s]'\n",
    "repl = ''"
   ]
  },
  {
   "cell_type": "code",
   "execution_count": 102,
   "metadata": {},
   "outputs": [
    {
     "ename": "TypeError",
     "evalue": "expected string or bytes-like object",
     "output_type": "error",
     "traceback": [
      "\u001b[1;31m---------------------------------------------------------------------------\u001b[0m",
      "\u001b[1;31mTypeError\u001b[0m                                 Traceback (most recent call last)",
      "\u001b[1;32m<ipython-input-102-b54522a68148>\u001b[0m in \u001b[0;36m<module>\u001b[1;34m\u001b[0m\n\u001b[1;32m----> 1\u001b[1;33m \u001b[0mre\u001b[0m\u001b[1;33m.\u001b[0m\u001b[0msub\u001b[0m\u001b[1;33m(\u001b[0m\u001b[0mpattern\u001b[0m\u001b[1;33m=\u001b[0m \u001b[0mpattern\u001b[0m\u001b[1;33m,\u001b[0m\u001b[0mrepl\u001b[0m\u001b[1;33m=\u001b[0m\u001b[0mrepl\u001b[0m\u001b[1;33m,\u001b[0m\u001b[0mstring\u001b[0m\u001b[1;33m=\u001b[0m\u001b[0mtag\u001b[0m\u001b[1;33m)\u001b[0m\u001b[1;33m\u001b[0m\u001b[1;33m\u001b[0m\u001b[0m\n\u001b[0m",
      "\u001b[1;32mC:\\ProgramData\\Anaconda3\\lib\\re.py\u001b[0m in \u001b[0;36msub\u001b[1;34m(pattern, repl, string, count, flags)\u001b[0m\n\u001b[0;32m    190\u001b[0m     \u001b[0ma\u001b[0m \u001b[0mcallable\u001b[0m\u001b[1;33m,\u001b[0m \u001b[0mit\u001b[0m\u001b[0;31m'\u001b[0m\u001b[0ms\u001b[0m \u001b[0mpassed\u001b[0m \u001b[0mthe\u001b[0m \u001b[0mMatch\u001b[0m \u001b[0mobject\u001b[0m \u001b[1;32mand\u001b[0m \u001b[0mmust\u001b[0m \u001b[1;32mreturn\u001b[0m\u001b[1;33m\u001b[0m\u001b[1;33m\u001b[0m\u001b[0m\n\u001b[0;32m    191\u001b[0m     a replacement string to be used.\"\"\"\n\u001b[1;32m--> 192\u001b[1;33m     \u001b[1;32mreturn\u001b[0m \u001b[0m_compile\u001b[0m\u001b[1;33m(\u001b[0m\u001b[0mpattern\u001b[0m\u001b[1;33m,\u001b[0m \u001b[0mflags\u001b[0m\u001b[1;33m)\u001b[0m\u001b[1;33m.\u001b[0m\u001b[0msub\u001b[0m\u001b[1;33m(\u001b[0m\u001b[0mrepl\u001b[0m\u001b[1;33m,\u001b[0m \u001b[0mstring\u001b[0m\u001b[1;33m,\u001b[0m \u001b[0mcount\u001b[0m\u001b[1;33m)\u001b[0m\u001b[1;33m\u001b[0m\u001b[1;33m\u001b[0m\u001b[0m\n\u001b[0m\u001b[0;32m    193\u001b[0m \u001b[1;33m\u001b[0m\u001b[0m\n\u001b[0;32m    194\u001b[0m \u001b[1;32mdef\u001b[0m \u001b[0msubn\u001b[0m\u001b[1;33m(\u001b[0m\u001b[0mpattern\u001b[0m\u001b[1;33m,\u001b[0m \u001b[0mrepl\u001b[0m\u001b[1;33m,\u001b[0m \u001b[0mstring\u001b[0m\u001b[1;33m,\u001b[0m \u001b[0mcount\u001b[0m\u001b[1;33m=\u001b[0m\u001b[1;36m0\u001b[0m\u001b[1;33m,\u001b[0m \u001b[0mflags\u001b[0m\u001b[1;33m=\u001b[0m\u001b[1;36m0\u001b[0m\u001b[1;33m)\u001b[0m\u001b[1;33m:\u001b[0m\u001b[1;33m\u001b[0m\u001b[1;33m\u001b[0m\u001b[0m\n",
      "\u001b[1;31mTypeError\u001b[0m: expected string or bytes-like object"
     ]
    }
   ],
   "source": [
    "re.sub(pattern= pattern,repl=repl,string=tag)"
   ]
  },
  {
   "cell_type": "code",
   "execution_count": 68,
   "metadata": {},
   "outputs": [],
   "source": [
    "import numpy"
   ]
  },
  {
   "cell_type": "code",
   "execution_count": 120,
   "metadata": {},
   "outputs": [],
   "source": []
  },
  {
   "cell_type": "code",
   "execution_count": null,
   "metadata": {},
   "outputs": [],
   "source": []
  }
 ],
 "metadata": {
  "kernelspec": {
   "display_name": "Python 3",
   "language": "python",
   "name": "python3"
  },
  "language_info": {
   "codemirror_mode": {
    "name": "ipython",
    "version": 3
   },
   "file_extension": ".py",
   "mimetype": "text/x-python",
   "name": "python",
   "nbconvert_exporter": "python",
   "pygments_lexer": "ipython3",
   "version": "3.7.3"
  }
 },
 "nbformat": 4,
 "nbformat_minor": 2
}

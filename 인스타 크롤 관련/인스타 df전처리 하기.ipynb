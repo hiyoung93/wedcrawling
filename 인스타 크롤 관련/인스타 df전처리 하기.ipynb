{
 "cells": [
  {
   "cell_type": "code",
   "execution_count": 2,
   "metadata": {},
   "outputs": [],
   "source": [
    "import pandas as pd\n",
    "import numpy as np\n"
   ]
  },
  {
   "cell_type": "code",
   "execution_count": 13,
   "metadata": {},
   "outputs": [],
   "source": [
    " import xlrd\n",
    "import csv"
   ]
  },
  {
   "cell_type": "code",
   "execution_count": 40,
   "metadata": {},
   "outputs": [],
   "source": [
    "df = pd.read_excel('instagram.csv.xlsx',sheet_name='Sheet1')\n"
   ]
  },
  {
   "cell_type": "markdown",
   "metadata": {},
   "source": [
    "- 엄청난 에러를 많이 만남\n",
    "- encoding - Opening and reading UTF-16 files in Python ;;;  Stack Overflow\n",
    "- 'utf-16-le' codec can't decode bytes in position 428-429: illegal encoding \n",
    "- character encoding - Python loading 'utf-16' file can't decode '\\u0153' ;;; Stack Overflow\n",
    "    ### csv로 excel자체에서 변경이 안되면 그냥 excel로 만들어서 진행하는게 훨씬 빨르다\n",
    "    "
   ]
  },
  {
   "cell_type": "code",
   "execution_count": 42,
   "metadata": {},
   "outputs": [
    {
     "name": "stdout",
     "output_type": "stream",
     "text": [
      "<class 'pandas.core.frame.DataFrame'>\n",
      "RangeIndex: 1199 entries, 0 to 1198\n",
      "Data columns (total 3 columns):\n",
      "Unnamed: 0    1199 non-null int64\n",
      "data1         1199 non-null object\n",
      "data2         928 non-null object\n",
      "dtypes: int64(1), object(2)\n",
      "memory usage: 28.2+ KB\n"
     ]
    }
   ],
   "source": [
    "df.info()"
   ]
  },
  {
   "cell_type": "markdown",
   "metadata": {},
   "source": [
    " -  info를 먼저 보고 그 다음 진행하기\n",
    " - 사실 나느 데이터가 이미 어떻게 되어있느지 알기에 info를 확인할 필요는 읎다"
   ]
  },
  {
   "cell_type": "code",
   "execution_count": null,
   "metadata": {},
   "outputs": [],
   "source": [
    "p = re.compile('#')\n",
    "m = p.find"
   ]
  },
  {
   "cell_type": "markdown",
   "metadata": {},
   "source": []
  },
  {
   "cell_type": "code",
   "execution_count": null,
   "metadata": {},
   "outputs": [],
   "source": []
  }
 ],
 "metadata": {
  "kernelspec": {
   "display_name": "Python 3",
   "language": "python",
   "name": "python3"
  },
  "language_info": {
   "codemirror_mode": {
    "name": "ipython",
    "version": 3
   },
   "file_extension": ".py",
   "mimetype": "text/x-python",
   "name": "python",
   "nbconvert_exporter": "python",
   "pygments_lexer": "ipython3",
   "version": "3.7.3"
  }
 },
 "nbformat": 4,
 "nbformat_minor": 2
}

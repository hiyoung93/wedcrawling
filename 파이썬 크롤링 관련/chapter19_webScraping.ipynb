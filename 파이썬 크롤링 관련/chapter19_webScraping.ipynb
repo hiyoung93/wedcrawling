{
 "cells": [
  {
   "cell_type": "markdown",
   "metadata": {},
   "source": [
    "## 비정형 데이터 분석\n",
    "\n",
    "- 정형(structured) 데이터: 표 형태의 데이터\n",
    "- 비정형(unstructured) 데이터: 텍스트, 이미지, 음성 등"
   ]
  },
  {
   "cell_type": "markdown",
   "metadata": {},
   "source": [
    "# 웹 스크래핑 1"
   ]
  },
  {
   "cell_type": "markdown",
   "metadata": {},
   "source": [
    "### Python으로 URL 분석하기"
   ]
  },
  {
   "cell_type": "code",
   "execution_count": 1,
   "metadata": {},
   "outputs": [],
   "source": [
    "import urllib.parse"
   ]
  },
  {
   "cell_type": "code",
   "execution_count": 2,
   "metadata": {},
   "outputs": [],
   "source": [
    "p = urllib.parse.urlparse('http://www.bobaedream.co.kr/mycar/mycar_list.php?sel_m_gubun=ALL&page=2')"
   ]
  },
  {
   "cell_type": "code",
   "execution_count": 3,
   "metadata": {},
   "outputs": [
    {
     "data": {
      "text/plain": [
       "'http'"
      ]
     },
     "execution_count": 3,
     "metadata": {},
     "output_type": "execute_result"
    }
   ],
   "source": [
    "p.scheme"
   ]
  },
  {
   "cell_type": "code",
   "execution_count": 4,
   "metadata": {},
   "outputs": [
    {
     "data": {
      "text/plain": [
       "'www.bobaedream.co.kr'"
      ]
     },
     "execution_count": 4,
     "metadata": {},
     "output_type": "execute_result"
    }
   ],
   "source": [
    "p.hostname"
   ]
  },
  {
   "cell_type": "code",
   "execution_count": 5,
   "metadata": {},
   "outputs": [
    {
     "data": {
      "text/plain": [
       "'/mycar/mycar_list.php'"
      ]
     },
     "execution_count": 5,
     "metadata": {},
     "output_type": "execute_result"
    }
   ],
   "source": [
    "p.path"
   ]
  },
  {
   "cell_type": "code",
   "execution_count": 6,
   "metadata": {},
   "outputs": [
    {
     "data": {
      "text/plain": [
       "'sel_m_gubun=ALL&page=2'"
      ]
     },
     "execution_count": 6,
     "metadata": {},
     "output_type": "execute_result"
    }
   ],
   "source": [
    "p.query"
   ]
  },
  {
   "cell_type": "markdown",
   "metadata": {},
   "source": [
    "### 요청보내기"
   ]
  },
  {
   "cell_type": "code",
   "execution_count": 7,
   "metadata": {},
   "outputs": [],
   "source": [
    "import requests"
   ]
  },
  {
   "cell_type": "code",
   "execution_count": 8,
   "metadata": {},
   "outputs": [],
   "source": [
    "# GET 요청을 보내고 응답을 받아와 res 변수에 할당한다.\n",
    "url = 'http://www.bobaedream.co.kr/mycar/mycar_list.php?sel_m_gubun=ALL&page=2'\n",
    "res = requests.get(url)"
   ]
  },
  {
   "cell_type": "code",
   "execution_count": 9,
   "metadata": {},
   "outputs": [
    {
     "data": {
      "text/plain": [
       "<Response [200]>"
      ]
     },
     "execution_count": 9,
     "metadata": {},
     "output_type": "execute_result"
    }
   ],
   "source": [
    "res # <Response [200]> 정상적으로 가져왔다는 뜻"
   ]
  },
  {
   "cell_type": "code",
   "execution_count": 10,
   "metadata": {},
   "outputs": [
    {
     "data": {
      "text/plain": [
       "200"
      ]
     },
     "execution_count": 10,
     "metadata": {},
     "output_type": "execute_result"
    }
   ],
   "source": [
    "res.status_code\n",
    "# 응답의 상태 코드를 확인하면 200번을 얻는다."
   ]
  },
  {
   "cell_type": "code",
   "execution_count": 11,
   "metadata": {},
   "outputs": [
    {
     "data": {
      "text/plain": [
       "<Response [404]>"
      ]
     },
     "execution_count": 11,
     "metadata": {},
     "output_type": "execute_result"
    }
   ],
   "source": [
    "requests.get('http://www.bobaedream.co.kr/aaaaaaa')"
   ]
  },
  {
   "cell_type": "markdown",
   "metadata": {},
   "source": [
    "## 상태코드\n",
    "\n",
    "- 2XX: 성공\n",
    "- 3XX: 다른 주소로 이동\n",
    "- 4XX: 클라이언트 오류\n",
    "  - 404: 존재하지 않는 주소\n",
    "- 5XX: 서버 오류\n",
    "  - 503: 서버가 다운 등의 문제로 서비스 불가 상태"
   ]
  },
  {
   "cell_type": "markdown",
   "metadata": {},
   "source": [
    "## HTML\n",
    "\n",
    "- 웹 페이지의 내용을 표현하는 방법\n",
    "- 노드라는 단위로 구성\n",
    "- 하나의 노드는 여는 태그, 태그의 내용, 닫는 태그로 구성\n",
    "- 예: `<a href=\"http://www.google.com\">구글</a>`\n",
    "  - 여는 태그: `<a href=\"http://www.google.com\">`\n",
    "  - 내용: `구글`\n",
    "  - 닫는 태그: `</a>`"
   ]
  },
  {
   "cell_type": "markdown",
   "metadata": {},
   "source": [
    "## 개발자 도구\n",
    "\n",
    "- 웹 브라우저에서 F12 또는 우클릭 후 \"검사\" 메뉴를 클릭하면 개발자도구로 진입\n",
    "- HTML의 구조와 통신 내역 등을 확인"
   ]
  },
  {
   "cell_type": "markdown",
   "metadata": {},
   "source": [
    "## HTML의 주요 태그\n",
    "\n",
    "- div: 구역(division)\n",
    "- span: 범위(span)\n",
    "- ul: 번호 없는 리스트(unordered list)\n",
    "- ol: 번호 리스트(ordered list)\n",
    "- li: 리스트 항목(list item)\n",
    "- a: 링크(anchor)"
   ]
  },
  {
   "cell_type": "markdown",
   "metadata": {},
   "source": [
    "## 응답 내용에서 특정 태그 찾기\n",
    "\n",
    "먼저 cssselect 패키지를 설치한다."
   ]
  },
  {
   "cell_type": "code",
   "execution_count": 16,
   "metadata": {},
   "outputs": [
    {
     "name": "stdout",
     "output_type": "stream",
     "text": [
      "Collecting cssselect\n",
      "  Downloading https://files.pythonhosted.org/packages/7b/44/25b7283e50585f0b4156960691d951b05d061abf4a714078393e51929b30/cssselect-1.0.3-py2.py3-none-any.whl\n",
      "Installing collected packages: cssselect\n",
      "Successfully installed cssselect-1.0.3\n"
     ]
    }
   ],
   "source": [
    "!pip install cssselect"
   ]
  },
  {
   "cell_type": "markdown",
   "metadata": {},
   "source": [
    "HTML 해석을 위한 lxml.html을 불러온다."
   ]
  },
  {
   "cell_type": "code",
   "execution_count": 18,
   "metadata": {},
   "outputs": [],
   "source": [
    "import lxml.html"
   ]
  },
  {
   "cell_type": "markdown",
   "metadata": {},
   "source": [
    "응답의 텍스트(res.text)를 해석한다."
   ]
  },
  {
   "cell_type": "code",
   "execution_count": 19,
   "metadata": {},
   "outputs": [],
   "source": [
    "root = lxml.html.fromstring(res.text)"
   ]
  },
  {
   "cell_type": "markdown",
   "metadata": {},
   "source": [
    "a 태그를 모두 찾는다."
   ]
  },
  {
   "cell_type": "code",
   "execution_count": 20,
   "metadata": {},
   "outputs": [
    {
     "data": {
      "text/plain": [
       "[<Element a at 0x71014a8>,\n",
       " <Element a at 0x7101318>,\n",
       " <Element a at 0x71208b8>,\n",
       " <Element a at 0x7120a98>,\n",
       " <Element a at 0x7120ae8>,\n",
       " <Element a at 0x7120b38>,\n",
       " <Element a at 0x7120b88>,\n",
       " <Element a at 0x7120bd8>,\n",
       " <Element a at 0x7120c28>,\n",
       " <Element a at 0x7120c78>,\n",
       " <Element a at 0x7120cc8>,\n",
       " <Element a at 0x7120d18>,\n",
       " <Element a at 0x7120d68>,\n",
       " <Element a at 0x7120db8>,\n",
       " <Element a at 0x7120e08>,\n",
       " <Element a at 0x7120e58>,\n",
       " <Element a at 0x7120ea8>,\n",
       " <Element a at 0x7120ef8>,\n",
       " <Element a at 0x7120f48>,\n",
       " <Element a at 0x7120f98>,\n",
       " <Element a at 0x7127048>,\n",
       " <Element a at 0x7127098>,\n",
       " <Element a at 0x71270e8>,\n",
       " <Element a at 0x7127138>,\n",
       " <Element a at 0x7127188>,\n",
       " <Element a at 0x71271d8>,\n",
       " <Element a at 0x7127228>,\n",
       " <Element a at 0x7127278>,\n",
       " <Element a at 0x71272c8>,\n",
       " <Element a at 0x7127318>,\n",
       " <Element a at 0x7127368>,\n",
       " <Element a at 0x71273b8>,\n",
       " <Element a at 0x7127408>,\n",
       " <Element a at 0x7127458>,\n",
       " <Element a at 0x71274a8>,\n",
       " <Element a at 0x71274f8>,\n",
       " <Element a at 0x7127548>,\n",
       " <Element a at 0x7127598>,\n",
       " <Element a at 0x71275e8>,\n",
       " <Element a at 0x7127638>,\n",
       " <Element a at 0x7127688>,\n",
       " <Element a at 0x71276d8>,\n",
       " <Element a at 0x7127728>,\n",
       " <Element a at 0x7127778>,\n",
       " <Element a at 0x71277c8>,\n",
       " <Element a at 0x7127818>,\n",
       " <Element a at 0x7127868>,\n",
       " <Element a at 0x71278b8>,\n",
       " <Element a at 0x7127908>,\n",
       " <Element a at 0x7127958>,\n",
       " <Element a at 0x71279a8>,\n",
       " <Element a at 0x71279f8>,\n",
       " <Element a at 0x7127a48>,\n",
       " <Element a at 0x7127a98>,\n",
       " <Element a at 0x7127ae8>,\n",
       " <Element a at 0x7127b38>,\n",
       " <Element a at 0x7127b88>,\n",
       " <Element a at 0x7127bd8>,\n",
       " <Element a at 0x7127c28>,\n",
       " <Element a at 0x7127c78>,\n",
       " <Element a at 0x7127cc8>,\n",
       " <Element a at 0x7127d18>,\n",
       " <Element a at 0x7127d68>,\n",
       " <Element a at 0x7127db8>,\n",
       " <Element a at 0x7127e08>,\n",
       " <Element a at 0x7127e58>,\n",
       " <Element a at 0x7127ea8>,\n",
       " <Element a at 0x7127ef8>,\n",
       " <Element a at 0x7127f48>,\n",
       " <Element a at 0x7127f98>,\n",
       " <Element a at 0x7128048>,\n",
       " <Element a at 0x7128098>,\n",
       " <Element a at 0x71280e8>,\n",
       " <Element a at 0x7128138>,\n",
       " <Element a at 0x7128188>,\n",
       " <Element a at 0x71281d8>,\n",
       " <Element a at 0x7128228>,\n",
       " <Element a at 0x7128278>,\n",
       " <Element a at 0x71282c8>,\n",
       " <Element a at 0x7128318>,\n",
       " <Element a at 0x7128368>,\n",
       " <Element a at 0x71283b8>,\n",
       " <Element a at 0x7128408>,\n",
       " <Element a at 0x7128458>,\n",
       " <Element a at 0x71284a8>,\n",
       " <Element a at 0x71284f8>,\n",
       " <Element a at 0x7128548>,\n",
       " <Element a at 0x7128598>,\n",
       " <Element a at 0x71285e8>,\n",
       " <Element a at 0x7128638>,\n",
       " <Element a at 0x7128688>,\n",
       " <Element a at 0x71286d8>,\n",
       " <Element a at 0x7128728>,\n",
       " <Element a at 0x7128778>,\n",
       " <Element a at 0x71287c8>,\n",
       " <Element a at 0x7128818>,\n",
       " <Element a at 0x7128868>,\n",
       " <Element a at 0x71288b8>,\n",
       " <Element a at 0x7128908>,\n",
       " <Element a at 0x7128958>,\n",
       " <Element a at 0x71289a8>,\n",
       " <Element a at 0x71289f8>,\n",
       " <Element a at 0x7128a48>,\n",
       " <Element a at 0x7128a98>,\n",
       " <Element a at 0x7128ae8>,\n",
       " <Element a at 0x7128b38>,\n",
       " <Element a at 0x7128b88>,\n",
       " <Element a at 0x7128bd8>,\n",
       " <Element a at 0x7128c28>,\n",
       " <Element a at 0x7128c78>,\n",
       " <Element a at 0x7128cc8>,\n",
       " <Element a at 0x7128d18>,\n",
       " <Element a at 0x7128d68>,\n",
       " <Element a at 0x7128db8>,\n",
       " <Element a at 0x7128e08>,\n",
       " <Element a at 0x7128e58>,\n",
       " <Element a at 0x7128ea8>,\n",
       " <Element a at 0x7128ef8>,\n",
       " <Element a at 0x7128f48>,\n",
       " <Element a at 0x7128f98>,\n",
       " <Element a at 0x7129048>,\n",
       " <Element a at 0x7129098>,\n",
       " <Element a at 0x71290e8>,\n",
       " <Element a at 0x7129138>,\n",
       " <Element a at 0x7129188>,\n",
       " <Element a at 0x71291d8>,\n",
       " <Element a at 0x7129228>,\n",
       " <Element a at 0x7129278>,\n",
       " <Element a at 0x71292c8>,\n",
       " <Element a at 0x7129318>,\n",
       " <Element a at 0x7129368>,\n",
       " <Element a at 0x71293b8>,\n",
       " <Element a at 0x7129408>,\n",
       " <Element a at 0x7129458>,\n",
       " <Element a at 0x71294a8>,\n",
       " <Element a at 0x71294f8>,\n",
       " <Element a at 0x7129548>,\n",
       " <Element a at 0x7129598>,\n",
       " <Element a at 0x71295e8>,\n",
       " <Element a at 0x7129638>,\n",
       " <Element a at 0x7129688>,\n",
       " <Element a at 0x71296d8>,\n",
       " <Element a at 0x7129728>,\n",
       " <Element a at 0x7129778>,\n",
       " <Element a at 0x71297c8>,\n",
       " <Element a at 0x7129818>,\n",
       " <Element a at 0x7129868>,\n",
       " <Element a at 0x71298b8>,\n",
       " <Element a at 0x7129908>,\n",
       " <Element a at 0x7129958>,\n",
       " <Element a at 0x71299a8>,\n",
       " <Element a at 0x71299f8>,\n",
       " <Element a at 0x7129a48>,\n",
       " <Element a at 0x7129a98>,\n",
       " <Element a at 0x7129ae8>,\n",
       " <Element a at 0x7129b38>,\n",
       " <Element a at 0x7129b88>,\n",
       " <Element a at 0x7129bd8>,\n",
       " <Element a at 0x7129c28>,\n",
       " <Element a at 0x7129c78>,\n",
       " <Element a at 0x7129cc8>,\n",
       " <Element a at 0x7129d18>,\n",
       " <Element a at 0x7129d68>,\n",
       " <Element a at 0x7129db8>,\n",
       " <Element a at 0x7129e08>,\n",
       " <Element a at 0x7129e58>,\n",
       " <Element a at 0x7129ea8>,\n",
       " <Element a at 0x7129ef8>,\n",
       " <Element a at 0x7129f48>,\n",
       " <Element a at 0x7129f98>,\n",
       " <Element a at 0x712a048>,\n",
       " <Element a at 0x712a098>,\n",
       " <Element a at 0x712a0e8>,\n",
       " <Element a at 0x712a138>,\n",
       " <Element a at 0x712a188>,\n",
       " <Element a at 0x712a1d8>,\n",
       " <Element a at 0x712a228>,\n",
       " <Element a at 0x712a278>,\n",
       " <Element a at 0x712a2c8>,\n",
       " <Element a at 0x712a318>,\n",
       " <Element a at 0x712a368>,\n",
       " <Element a at 0x712a3b8>,\n",
       " <Element a at 0x712a408>,\n",
       " <Element a at 0x712a458>,\n",
       " <Element a at 0x712a4a8>,\n",
       " <Element a at 0x712a4f8>,\n",
       " <Element a at 0x712a548>,\n",
       " <Element a at 0x712a598>,\n",
       " <Element a at 0x712a5e8>,\n",
       " <Element a at 0x712a638>,\n",
       " <Element a at 0x712a688>,\n",
       " <Element a at 0x712a6d8>,\n",
       " <Element a at 0x712a728>,\n",
       " <Element a at 0x712a778>,\n",
       " <Element a at 0x712a7c8>,\n",
       " <Element a at 0x712a818>,\n",
       " <Element a at 0x712a868>,\n",
       " <Element a at 0x712a8b8>,\n",
       " <Element a at 0x712a908>,\n",
       " <Element a at 0x712a958>,\n",
       " <Element a at 0x712a9a8>,\n",
       " <Element a at 0x712a9f8>,\n",
       " <Element a at 0x712aa48>,\n",
       " <Element a at 0x712aa98>,\n",
       " <Element a at 0x712aae8>,\n",
       " <Element a at 0x712ab38>,\n",
       " <Element a at 0x712ab88>,\n",
       " <Element a at 0x712abd8>,\n",
       " <Element a at 0x712ac28>,\n",
       " <Element a at 0x712ac78>,\n",
       " <Element a at 0x712acc8>,\n",
       " <Element a at 0x712ad18>,\n",
       " <Element a at 0x712ad68>,\n",
       " <Element a at 0x712adb8>,\n",
       " <Element a at 0x712ae08>,\n",
       " <Element a at 0x712ae58>,\n",
       " <Element a at 0x712aea8>,\n",
       " <Element a at 0x712aef8>,\n",
       " <Element a at 0x712af48>,\n",
       " <Element a at 0x712af98>,\n",
       " <Element a at 0x712b048>,\n",
       " <Element a at 0x712b098>,\n",
       " <Element a at 0x712b0e8>,\n",
       " <Element a at 0x712b138>,\n",
       " <Element a at 0x712b188>,\n",
       " <Element a at 0x712b1d8>,\n",
       " <Element a at 0x712b228>,\n",
       " <Element a at 0x712b278>,\n",
       " <Element a at 0x712b2c8>,\n",
       " <Element a at 0x712b318>,\n",
       " <Element a at 0x712b368>,\n",
       " <Element a at 0x712b3b8>,\n",
       " <Element a at 0x712b408>,\n",
       " <Element a at 0x712b458>,\n",
       " <Element a at 0x712b4a8>,\n",
       " <Element a at 0x712b4f8>,\n",
       " <Element a at 0x712b548>,\n",
       " <Element a at 0x712b598>,\n",
       " <Element a at 0x712b5e8>,\n",
       " <Element a at 0x712b638>,\n",
       " <Element a at 0x712b688>,\n",
       " <Element a at 0x712b6d8>,\n",
       " <Element a at 0x712b728>,\n",
       " <Element a at 0x712b778>,\n",
       " <Element a at 0x712b7c8>,\n",
       " <Element a at 0x712b818>,\n",
       " <Element a at 0x712b868>,\n",
       " <Element a at 0x712b8b8>,\n",
       " <Element a at 0x712b908>,\n",
       " <Element a at 0x712b958>,\n",
       " <Element a at 0x712b9a8>,\n",
       " <Element a at 0x712b9f8>,\n",
       " <Element a at 0x712ba48>,\n",
       " <Element a at 0x712ba98>,\n",
       " <Element a at 0x712bae8>,\n",
       " <Element a at 0x712bb38>,\n",
       " <Element a at 0x712bb88>,\n",
       " <Element a at 0x712bbd8>,\n",
       " <Element a at 0x712bc28>,\n",
       " <Element a at 0x712bc78>,\n",
       " <Element a at 0x712bcc8>,\n",
       " <Element a at 0x712bd18>,\n",
       " <Element a at 0x712bd68>,\n",
       " <Element a at 0x712bdb8>,\n",
       " <Element a at 0x712be08>,\n",
       " <Element a at 0x712be58>,\n",
       " <Element a at 0x712bea8>,\n",
       " <Element a at 0x712bef8>,\n",
       " <Element a at 0x712bf48>,\n",
       " <Element a at 0x712bf98>,\n",
       " <Element a at 0x712c048>,\n",
       " <Element a at 0x712c098>,\n",
       " <Element a at 0x712c0e8>,\n",
       " <Element a at 0x712c138>,\n",
       " <Element a at 0x712c188>,\n",
       " <Element a at 0x712c1d8>,\n",
       " <Element a at 0x712c228>,\n",
       " <Element a at 0x712c278>,\n",
       " <Element a at 0x712c2c8>,\n",
       " <Element a at 0x712c318>,\n",
       " <Element a at 0x712c368>,\n",
       " <Element a at 0x712c3b8>,\n",
       " <Element a at 0x712c408>,\n",
       " <Element a at 0x712c458>,\n",
       " <Element a at 0x712c4a8>,\n",
       " <Element a at 0x712c4f8>,\n",
       " <Element a at 0x712c548>,\n",
       " <Element a at 0x712c598>,\n",
       " <Element a at 0x712c5e8>,\n",
       " <Element a at 0x712c638>,\n",
       " <Element a at 0x712c688>,\n",
       " <Element a at 0x712c6d8>,\n",
       " <Element a at 0x712c728>,\n",
       " <Element a at 0x712c778>,\n",
       " <Element a at 0x712c7c8>,\n",
       " <Element a at 0x712c818>,\n",
       " <Element a at 0x712c868>,\n",
       " <Element a at 0x712c8b8>,\n",
       " <Element a at 0x712c908>,\n",
       " <Element a at 0x712c958>,\n",
       " <Element a at 0x712c9a8>,\n",
       " <Element a at 0x712c9f8>,\n",
       " <Element a at 0x712ca48>,\n",
       " <Element a at 0x712ca98>,\n",
       " <Element a at 0x712cae8>,\n",
       " <Element a at 0x712cb38>,\n",
       " <Element a at 0x712cb88>,\n",
       " <Element a at 0x712cbd8>,\n",
       " <Element a at 0x712cc28>,\n",
       " <Element a at 0x712cc78>,\n",
       " <Element a at 0x712ccc8>,\n",
       " <Element a at 0x712cd18>,\n",
       " <Element a at 0x712cd68>,\n",
       " <Element a at 0x712cdb8>,\n",
       " <Element a at 0x712ce08>,\n",
       " <Element a at 0x712ce58>,\n",
       " <Element a at 0x712cea8>,\n",
       " <Element a at 0x712cef8>,\n",
       " <Element a at 0x712cf48>,\n",
       " <Element a at 0x712cf98>,\n",
       " <Element a at 0x712d048>,\n",
       " <Element a at 0x712d098>,\n",
       " <Element a at 0x712d0e8>,\n",
       " <Element a at 0x712d138>,\n",
       " <Element a at 0x712d188>,\n",
       " <Element a at 0x712d1d8>,\n",
       " <Element a at 0x712d228>,\n",
       " <Element a at 0x712d278>,\n",
       " <Element a at 0x712d2c8>,\n",
       " <Element a at 0x712d318>,\n",
       " <Element a at 0x712d368>,\n",
       " <Element a at 0x712d3b8>,\n",
       " <Element a at 0x712d408>,\n",
       " <Element a at 0x712d458>,\n",
       " <Element a at 0x712d4a8>,\n",
       " <Element a at 0x712d4f8>,\n",
       " <Element a at 0x712d548>,\n",
       " <Element a at 0x712d598>,\n",
       " <Element a at 0x712d5e8>,\n",
       " <Element a at 0x712d638>,\n",
       " <Element a at 0x712d688>,\n",
       " <Element a at 0x712d6d8>,\n",
       " <Element a at 0x712d728>,\n",
       " <Element a at 0x712d778>,\n",
       " <Element a at 0x712d7c8>,\n",
       " <Element a at 0x712d818>,\n",
       " <Element a at 0x712d868>,\n",
       " <Element a at 0x712d8b8>,\n",
       " <Element a at 0x712d908>,\n",
       " <Element a at 0x712d958>,\n",
       " <Element a at 0x712d9a8>,\n",
       " <Element a at 0x712d9f8>,\n",
       " <Element a at 0x712da48>,\n",
       " <Element a at 0x712da98>,\n",
       " <Element a at 0x712dae8>,\n",
       " <Element a at 0x712db38>,\n",
       " <Element a at 0x712db88>,\n",
       " <Element a at 0x712dbd8>,\n",
       " <Element a at 0x712dc28>,\n",
       " <Element a at 0x712dc78>]"
      ]
     },
     "execution_count": 20,
     "metadata": {},
     "output_type": "execute_result"
    }
   ],
   "source": [
    "root.cssselect('a')"
   ]
  },
  {
   "cell_type": "markdown",
   "metadata": {},
   "source": [
    "## 속성\n",
    "HTML 태그는 **속성**(attribute)라는 추가 정보를 포함한다. 대표적인 것은 다음과 같다.\n",
    "\n",
    "- `id`: 노드의 고유 아이디\n",
    "- `class`: 노드의 서식 유형\n",
    "- `href`: `a` 태그에만 사용. 링크된 주소.\n",
    "\n",
    "## CSS 선택자\n",
    "- HTML에서 특정 노드를 선택하기 위한 표기법\n",
    "- `.cssselect` 함수에 사용한다\n",
    "\n",
    "## 클래스의 선택자\n",
    "- 특정 class의 태그를 지정할 때는 `태그.클래스`와 같이 `.`으로 표시한다\n",
    "- 선택자에서 `p.tit`는 HTML에서 `<p class=\"tit\">`"
   ]
  },
  {
   "cell_type": "code",
   "execution_count": 21,
   "metadata": {},
   "outputs": [
    {
     "data": {
      "text/plain": [
       "[<Element em at 0x71016d8>,\n",
       " <Element em at 0x7101408>,\n",
       " <Element em at 0x712dea8>,\n",
       " <Element em at 0x712def8>,\n",
       " <Element em at 0x712df48>,\n",
       " <Element em at 0x712df98>,\n",
       " <Element em at 0x7130048>,\n",
       " <Element em at 0x7130098>,\n",
       " <Element em at 0x71300e8>,\n",
       " <Element em at 0x7130138>,\n",
       " <Element em at 0x7130188>,\n",
       " <Element em at 0x71301d8>,\n",
       " <Element em at 0x7130228>,\n",
       " <Element em at 0x7130278>,\n",
       " <Element em at 0x71302c8>,\n",
       " <Element em at 0x7130318>,\n",
       " <Element em at 0x7130368>]"
      ]
     },
     "execution_count": 21,
     "metadata": {},
     "output_type": "execute_result"
    }
   ],
   "source": [
    "root.cssselect('em.cr')"
   ]
  },
  {
   "cell_type": "markdown",
   "metadata": {},
   "source": [
    "## 클래스가 2개일 때\n",
    "- `태그.클래스1.클래스2`와 같이 `.`으로 구분하여 표시한다\n",
    "- 선택자에서 `p.tit.ellipsis`는 HTML에서 `<p class=\"tit ellipsis\">`\n",
    "- `p.tit`이나 `p.ellipsis`만 해도 `p.tit.ellipsis`는 선택 된다\n",
    "\n",
    "## 포함관계인 노드의 선택자\n",
    "```html\n",
    "<p class=\"tit ellipsis\">\n",
    "    <a href=\"...\">아우디 A8</a>\n",
    "</p>\n",
    "```\n",
    "- 위의 예는 `p` 태그 안에 `a` 태그가 포함됨\n",
    "- 선택자에서 포함관계는 공백으로 표시: `p.tit a`"
   ]
  },
  {
   "cell_type": "code",
   "execution_count": null,
   "metadata": {},
   "outputs": [],
   "source": [
    "links = root.cssselect('p.tit a')"
   ]
  },
  {
   "cell_type": "code",
   "execution_count": null,
   "metadata": {},
   "outputs": [],
   "source": [
    "links"
   ]
  },
  {
   "cell_type": "markdown",
   "metadata": {},
   "source": [
    "## href 속성 모으기\n",
    "\n",
    "링크의 걸린 주소를 수집한다"
   ]
  },
  {
   "cell_type": "code",
   "execution_count": null,
   "metadata": {},
   "outputs": [],
   "source": [
    "link = links[0]"
   ]
  },
  {
   "cell_type": "code",
   "execution_count": null,
   "metadata": {},
   "outputs": [],
   "source": [
    "link.attrib['href'] "
   ]
  },
  {
   "cell_type": "code",
   "execution_count": null,
   "metadata": {},
   "outputs": [],
   "source": [
    "for link in links:\n",
    "    print(link.attrib['href'])"
   ]
  },
  {
   "cell_type": "code",
   "execution_count": null,
   "metadata": {},
   "outputs": [],
   "source": [
    "x = [1,2,3]\n",
    "x.append(5)\n",
    "x"
   ]
  },
  {
   "cell_type": "code",
   "execution_count": null,
   "metadata": {},
   "outputs": [],
   "source": [
    "urls = []\n",
    "for link in links:\n",
    "    urls.append(link.attrib['href'])"
   ]
  },
  {
   "cell_type": "code",
   "execution_count": null,
   "metadata": {},
   "outputs": [],
   "source": [
    "urls"
   ]
  },
  {
   "cell_type": "markdown",
   "metadata": {},
   "source": [
    "## 상대주소\n",
    "\n",
    "- `/mycar/mycar_view.php?no=1944109&gubun=K`는 스키마와 호스트가 생략된 상대주소\n",
    "\n",
    "- 원래 주소 `http://www.bobaedream.co.kr/mycar/mycar_list.php?sel_m_gubun=ALL&page=2`를 이용해 절대주소로 변환"
   ]
  },
  {
   "cell_type": "code",
   "execution_count": null,
   "metadata": {},
   "outputs": [],
   "source": [
    "import urllib.parse"
   ]
  },
  {
   "cell_type": "code",
   "execution_count": null,
   "metadata": {},
   "outputs": [],
   "source": [
    "urllib.parse.urljoin(url, '/mycar/mycar_view.php?no=1944109&gubun=K')"
   ]
  },
  {
   "cell_type": "markdown",
   "metadata": {},
   "source": [
    "링크된 주소를 절대 주소로 수집"
   ]
  },
  {
   "cell_type": "code",
   "execution_count": null,
   "metadata": {},
   "outputs": [],
   "source": [
    "urls = []\n",
    "for link in links:\n",
    "    href = urllib.parse.urljoin(url, link.attrib['href'])\n",
    "    urls.append(href)"
   ]
  },
  {
   "cell_type": "code",
   "execution_count": null,
   "metadata": {},
   "outputs": [],
   "source": [
    "urls"
   ]
  },
  {
   "cell_type": "markdown",
   "metadata": {},
   "source": [
    "링크에서 텍스트를 추출"
   ]
  },
  {
   "cell_type": "code",
   "execution_count": null,
   "metadata": {},
   "outputs": [],
   "source": [
    "root = lxml.html.fromstring(pageString)texts = []\n",
    "for link in links:\n",
    "    texts.append(link.text_content())"
   ]
  },
  {
   "cell_type": "code",
   "execution_count": null,
   "metadata": {},
   "outputs": [],
   "source": [
    "texts"
   ]
  },
  {
   "cell_type": "markdown",
   "metadata": {},
   "source": [
    "수집된 주소를 저장"
   ]
  },
  {
   "cell_type": "code",
   "execution_count": null,
   "metadata": {},
   "outputs": [],
   "source": [
    "import pandas"
   ]
  },
  {
   "cell_type": "code",
   "execution_count": null,
   "metadata": {},
   "outputs": [],
   "source": [
    "df = pandas.DataFrame({'url': urls, 'text': texts})"
   ]
  },
  {
   "cell_type": "code",
   "execution_count": null,
   "metadata": {},
   "outputs": [],
   "source": [
    "df.head()"
   ]
  },
  {
   "cell_type": "code",
   "execution_count": null,
   "metadata": {},
   "outputs": [],
   "source": [
    "df.to_excel('중고차.xlsx')"
   ]
  },
  {
   "cell_type": "markdown",
   "metadata": {},
   "source": [
    "# 웹 스크랩 2"
   ]
  },
  {
   "cell_type": "markdown",
   "metadata": {},
   "source": [
    "## 네이버 의사모\n",
    "- PC버전: https://cafe.naver.com/duoin\n",
    "- 모바일버전: https://m.cafe.naver.com/duoin\n",
    "\n",
    "모바일 버전은 주소 m이 들어가있는 형태가 많음\n",
    "\n",
    "## 본문 긁기\n",
    "https://m.cafe.naver.com/ArticleRead.nhn?clubid=19773565&articleid=83048&page=1&boardtype=L&menuid=366"
   ]
  },
  {
   "cell_type": "code",
   "execution_count": null,
   "metadata": {},
   "outputs": [],
   "source": [
    "import requests\n",
    "article_url = 'https://m.cafe.naver.com/ArticleRead.nhn?clubid=19773565&articleid=83048&page=1&boardtype=L&menuid=366'"
   ]
  },
  {
   "cell_type": "code",
   "execution_count": null,
   "metadata": {},
   "outputs": [],
   "source": [
    "res = requests.get(article_url)"
   ]
  },
  {
   "cell_type": "markdown",
   "metadata": {},
   "source": [
    "## id 선택자\n",
    "\n",
    "- 본문 영역은 다음 태그로 감싸여 있다\n",
    "\n",
    "```html\n",
    "<div id=\"postContent\" class=\"post_cont font_zoom1\" style=\"overflow-x:auto;\">\n",
    "```\n",
    "\n",
    "- `id`는 선택자에서 `#`으로 표시"
   ]
  },
  {
   "cell_type": "code",
   "execution_count": null,
   "metadata": {},
   "outputs": [],
   "source": [
    "import lxml.html\n",
    "root = lxml.html.fromstring(res.text)"
   ]
  },
  {
   "cell_type": "code",
   "execution_count": null,
   "metadata": {},
   "outputs": [],
   "source": [
    "root.cssselect('div#postContent')"
   ]
  },
  {
   "cell_type": "markdown",
   "metadata": {},
   "source": [
    "## 본문 내용 보기\n",
    "\n",
    "- `cssselect`는 결과를 항상 리스트 형식으로 반환\n",
    "- 본문은 리스트의 첫번째 값이므로 0번을 지정"
   ]
  },
  {
   "cell_type": "code",
   "execution_count": null,
   "metadata": {},
   "outputs": [],
   "source": [
    "content = root.cssselect('div#postContent')[0]"
   ]
  },
  {
   "cell_type": "code",
   "execution_count": null,
   "metadata": {},
   "outputs": [],
   "source": [
    "content.text_content()"
   ]
  },
  {
   "cell_type": "markdown",
   "metadata": {},
   "source": [
    "## 정규표현식으로 공백지우기\n",
    "\n",
    "- `\\n`, `\\t`는 엔터와 탭을 나타냄. \n",
    "- 공백문자는 택스트 분석에서 무시되므로 굳이 지울 필요는 없음\n",
    "- 깔끔하게 처리하고 싶으면\n",
    "- 불필요한 공백을 지우려면 다음과 같이 정규표현식 사용"
   ]
  },
  {
   "cell_type": "code",
   "execution_count": null,
   "metadata": {},
   "outputs": [],
   "source": [
    "import re"
   ]
  },
  {
   "cell_type": "code",
   "execution_count": null,
   "metadata": {},
   "outputs": [],
   "source": [
    "re.sub('[\\s\\u200b]+', ' ', content.text_content())"
   ]
  },
  {
   "cell_type": "markdown",
   "metadata": {},
   "source": [
    "## 정규표현식 설명\n",
    "\n",
    "- 정규표현식에서 `[]`는 교체할 글자 범위\n",
    "- `\\s`는 일반적 공백\n",
    "- `\\u200b는 유니코드의 `200B` 폭없는 공백 문자\n",
    "- 끝의 +는 1개 이상이라는 뜻\n",
    "- `[\\s\\u200b]+` '공백과 폭 없는 공백문자가 1개 이상 반복되는 경우'"
   ]
  },
  {
   "cell_type": "markdown",
   "metadata": {},
   "source": [
    "## 회원 전용 게시판\n",
    "\n",
    "- 모바일 버전으로 접속\n",
    "- 우상단 ☰ 버튼 클릭 후 아래쪽에서 찾음\n",
    "\n",
    "https://m.cafe.naver.com/ArticleList.nhn?search.clubid=19773565&search.menuid=98&search.boardtype=L\n",
    "\n",
    "- 대부분 게시물이 회원만 볼 수 있음\n",
    "\n",
    "https://m.cafe.naver.com/ArticleRead.nhn?clubid=19773565&articleid=82659&page=1&boardtype=L&menuid=98"
   ]
  },
  {
   "cell_type": "markdown",
   "metadata": {},
   "source": [
    "회원 전용 게시판 스크랩"
   ]
  },
  {
   "cell_type": "code",
   "execution_count": null,
   "metadata": {},
   "outputs": [],
   "source": [
    "article_url = 'https://m.cafe.naver.com/ArticleRead.nhn?clubid=19773565&articleid=82659&page=1&boardtype=L&menuid=98'"
   ]
  },
  {
   "cell_type": "code",
   "execution_count": null,
   "metadata": {},
   "outputs": [],
   "source": [
    "res = requests.get(article_url)"
   ]
  },
  {
   "cell_type": "code",
   "execution_count": null,
   "metadata": {},
   "outputs": [],
   "source": [
    "root = lxml.html.fromstring(res.text)"
   ]
  },
  {
   "cell_type": "markdown",
   "metadata": {},
   "source": [
    "본문을 읽을 수 없음"
   ]
  },
  {
   "cell_type": "code",
   "execution_count": null,
   "metadata": {},
   "outputs": [],
   "source": [
    "root.cssselect('#postContent')"
   ]
  },
  {
   "cell_type": "markdown",
   "metadata": {},
   "source": [
    "## 리퍼러 바꾸기\n",
    "\n",
    "- 대부분 네이버 카페 게시물은 검색을 통해서 들어가면 게시물을 볼 수 있음\n",
    "- 마치 검색을 거쳐온 것처럼 하면 회원 전용 게시물도 열람 가능\n",
    "- 리퍼러(referer): 거쳐온 주소"
   ]
  },
  {
   "cell_type": "code",
   "execution_count": null,
   "metadata": {},
   "outputs": [],
   "source": [
    "search_url = 'https://search.naver.com/search.naver?sm=top_hty&fbm=1&ie=utf8&query=1'"
   ]
  },
  {
   "cell_type": "code",
   "execution_count": null,
   "metadata": {},
   "outputs": [],
   "source": [
    "res = requests.get(article_url, headers={'Referer': search_url})"
   ]
  },
  {
   "cell_type": "code",
   "execution_count": null,
   "metadata": {},
   "outputs": [],
   "source": [
    "root = lxml.html.fromstring(res.text)"
   ]
  },
  {
   "cell_type": "markdown",
   "metadata": {},
   "source": [
    "본문 영역이 선택됨"
   ]
  },
  {
   "cell_type": "code",
   "execution_count": null,
   "metadata": {},
   "outputs": [],
   "source": [
    "root.cssselect('#postContent')"
   ]
  },
  {
   "cell_type": "markdown",
   "metadata": {},
   "source": [
    "## 한글이 깨지는 경우\n",
    "\n",
    "대법원 홈페이지에 접속하면 한글이 깨져보인다"
   ]
  },
  {
   "cell_type": "code",
   "execution_count": null,
   "metadata": {},
   "outputs": [],
   "source": [
    "res = requests.get('http://scourt.go.kr/scourt/index.html')"
   ]
  },
  {
   "cell_type": "code",
   "execution_count": null,
   "metadata": {},
   "outputs": [],
   "source": [
    "root = lxml.html.fromstring(res.text)"
   ]
  },
  {
   "cell_type": "code",
   "execution_count": null,
   "metadata": {},
   "outputs": [],
   "source": [
    "root.cssselect('title')[0].text_content()"
   ]
  },
  {
   "cell_type": "markdown",
   "metadata": {},
   "source": [
    "## 한글 인코딩\n",
    "- 컴퓨터는 모든 것을 수(number)로 다룸\n",
    "- 한글 인코딩: 한글을 수로 나타내는 방법\n",
    "- 현재 국내에서 흔히 사용되는 인코딩은 2가지\n",
    "  - UTF-8: 유니코드라는 국제 표준의 한 형식\n",
    "  - EUC-KR: 완성형 국내 표준\n",
    "\n",
    "## requests의 인코딩 처리\n",
    "- 인코딩을 자동 인식하나 가끔 부정확\n",
    "- 대법원 사이트의 경우 EUC-KR을 ISO-8859-1로 오인식\n",
    "- ISO-8859-1은 서유럽 언어를 위한 유니코드 이전 국제표준(Latin-1)\n",
    "\n",
    "## 인코딩 바꾸기\n",
    "- 인코딩 값을 바꿔주면 됨\n",
    "- 국내 사이트의 경우 `euc-kr`과 `utf8` 둘 중에 하나이므로 하나씩 시도"
   ]
  },
  {
   "cell_type": "code",
   "execution_count": null,
   "metadata": {},
   "outputs": [],
   "source": [
    "res.encoding"
   ]
  },
  {
   "cell_type": "code",
   "execution_count": null,
   "metadata": {},
   "outputs": [],
   "source": [
    "res.encoding = 'euc-kr'\n",
    "#res.encoding = 'utf-8'"
   ]
  },
  {
   "cell_type": "markdown",
   "metadata": {},
   "source": [
    "다시 처리해보면"
   ]
  },
  {
   "cell_type": "code",
   "execution_count": null,
   "metadata": {},
   "outputs": [],
   "source": [
    "root = lxml.html.fromstring(res.text)"
   ]
  },
  {
   "cell_type": "code",
   "execution_count": null,
   "metadata": {},
   "outputs": [],
   "source": [
    "root.cssselect('title')[0].text_content()"
   ]
  },
  {
   "cell_type": "code",
   "execution_count": null,
   "metadata": {},
   "outputs": [],
   "source": []
  },
  {
   "cell_type": "code",
   "execution_count": null,
   "metadata": {},
   "outputs": [],
   "source": []
  }
 ],
 "metadata": {
  "kernelspec": {
   "display_name": "Python 3",
   "language": "python",
   "name": "python3"
  },
  "language_info": {
   "codemirror_mode": {
    "name": "ipython",
    "version": 3
   },
   "file_extension": ".py",
   "mimetype": "text/x-python",
   "name": "python",
   "nbconvert_exporter": "python",
   "pygments_lexer": "ipython3",
   "version": "3.7.3"
  }
 },
 "nbformat": 4,
 "nbformat_minor": 2
}

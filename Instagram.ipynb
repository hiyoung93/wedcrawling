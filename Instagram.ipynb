{
 "cells": [
  {
   "cell_type": "code",
   "execution_count": 28,
   "metadata": {},
   "outputs": [],
   "source": [
    "import pandas as pd\n",
    "import re"
   ]
  },
  {
   "cell_type": "code",
   "execution_count": 29,
   "metadata": {},
   "outputs": [],
   "source": [
    "f = open('hello.txt', encoding='utf8')"
   ]
  },
  {
   "cell_type": "code",
   "execution_count": 30,
   "metadata": {},
   "outputs": [],
   "source": [
    "data1 = []\n",
    "data2 = []\n",
    "lines = f.readlines()\n",
    "int = 0\n",
    "for line in lines:\n",
    "    \n",
    "    line = line.replace(\"<title>\",\"\")\n",
    "    line = line.replace(\"</title>\",\"\")\n",
    "    line = line.replace(\"\\n\",\"\")\n",
    "    line = line.replace(\"\\t\",\"\")\n",
    "    \n",
    "    if line.strip() and int != 0:\n",
    "        arrStr = line.split(\":\")\n",
    "        data1.append(arrStr[0])\n",
    "        if (len(arrStr) == 2):\n",
    "            data2.append(arrStr[1])\n",
    "        else:\n",
    "            data2.append(\"\")\n",
    "\n",
    "    int += 1        \n",
    "        "
   ]
  },
  {
   "cell_type": "code",
   "execution_count": null,
   "metadata": {},
   "outputs": [],
   "source": [
    "= re.sub('[-=.#/?:$}]', '', text)"
   ]
  },
  {
   "cell_type": "code",
   "execution_count": null,
   "metadata": {},
   "outputs": [],
   "source": []
  },
  {
   "cell_type": "code",
   "execution_count": null,
   "metadata": {},
   "outputs": [],
   "source": []
  },
  {
   "cell_type": "code",
   "execution_count": 8,
   "metadata": {},
   "outputs": [],
   "source": [
    "df = pd.DataFrame({\n",
    "    'data1':data1,\n",
    "    'data2':data2\n",
    "})"
   ]
  },
  {
   "cell_type": "code",
   "execution_count": 25,
   "metadata": {},
   "outputs": [
    {
     "data": {
      "text/html": [
       "<div>\n",
       "<style scoped>\n",
       "    .dataframe tbody tr th:only-of-type {\n",
       "        vertical-align: middle;\n",
       "    }\n",
       "\n",
       "    .dataframe tbody tr th {\n",
       "        vertical-align: top;\n",
       "    }\n",
       "\n",
       "    .dataframe thead th {\n",
       "        text-align: right;\n",
       "    }\n",
       "</style>\n",
       "<table border=\"1\" class=\"dataframe\">\n",
       "  <thead>\n",
       "    <tr style=\"text-align: right;\">\n",
       "      <th></th>\n",
       "      <th>data1</th>\n",
       "      <th>data2</th>\n",
       "    </tr>\n",
       "  </thead>\n",
       "  <tbody>\n",
       "    <tr>\n",
       "      <th>0</th>\n",
       "      <td>@jelly_blythe on Instagram</td>\n",
       "      <td>“#dollartistry#doll#dolls#art#blythedress#bly...</td>\n",
       "    </tr>\n",
       "    <tr>\n",
       "      <th>1</th>\n",
       "      <td>TianBa0830 on Instagram</td>\n",
       "      <td>“Eyes ♡ ♡ ♡ ♡#bjdmakeup #bjdfaceup #makeup #f...</td>\n",
       "    </tr>\n",
       "    <tr>\n",
       "      <th>2</th>\n",
       "      <td>Blythe Doll Russia on Instagram</td>\n",
       "      <td>“Бывает у вас творческое истощение? 🤔 Думаю с...</td>\n",
       "    </tr>\n",
       "    <tr>\n",
       "      <th>3</th>\n",
       "      <td>❁ 𝓡𝓪𝓺𝓾𝓮𝓵 𝓒𝓵𝓮𝓶𝓮𝓷𝓽𝓮  ❁ on Instagram</td>\n",
       "      <td>“Hi sweeties!! 🖤  I'm here again with the res...</td>\n",
       "    </tr>\n",
       "    <tr>\n",
       "      <th>4</th>\n",
       "      <td>Julia Gass on Instagram</td>\n",
       "      <td>“SOLD Hello, my friends! Flower dragon 😍 Have...</td>\n",
       "    </tr>\n",
       "    <tr>\n",
       "      <th>5</th>\n",
       "      <td>Yoli 🏳️‍🌈💕Theia on Instagram</td>\n",
       "      <td>“Renaissance feeling ✨ . . #smartdoll #smartd...</td>\n",
       "    </tr>\n",
       "    <tr>\n",
       "      <th>6</th>\n",
       "      <td>Юлия on Instagram</td>\n",
       "      <td>“Парики/Wigs #ooak #ooakdoll #repaintmonsterh...</td>\n",
       "    </tr>\n",
       "    <tr>\n",
       "      <th>7</th>\n",
       "      <td>Hain (ハイン) on Instagram</td>\n",
       "      <td>“Friend 🧡 . . . #knit #handmade #amigurumi #y...</td>\n",
       "    </tr>\n",
       "    <tr>\n",
       "      <th>8</th>\n",
       "      <td>LiveMachinery on Instagram</td>\n",
       "      <td>“Throwback to darker days 🌓 . . . . . . Detai...</td>\n",
       "    </tr>\n",
       "    <tr>\n",
       "      <th>9</th>\n",
       "      <td>Atypical Retro on Instagram</td>\n",
       "      <td>“Vintage Bradley Doll with tag still attached...</td>\n",
       "    </tr>\n",
       "    <tr>\n",
       "      <th>10</th>\n",
       "      <td>Ribbon Doll on Instagram</td>\n",
       "      <td>“はいポーズ🌻✨📷✨🌻 #doll #posedoll #vintage doll #ja...</td>\n",
       "    </tr>\n",
       "    <tr>\n",
       "      <th>11</th>\n",
       "      <td>masayo keizuka on Instagram</td>\n",
       "      <td></td>\n",
       "    </tr>\n",
       "    <tr>\n",
       "      <th>12</th>\n",
       "      <td>Mune Z on Instagram</td>\n",
       "      <td>“Glitchy Sho . . #bjd #balljointeddoll #doll ...</td>\n",
       "    </tr>\n",
       "    <tr>\n",
       "      <th>13</th>\n",
       "      <td>Dinha Reborns👶🏻🇧🇷 on Instagram</td>\n",
       "      <td>“Olha que gato que eu estou,beijinhos do Dudu...</td>\n",
       "    </tr>\n",
       "    <tr>\n",
       "      <th>14</th>\n",
       "      <td>@loveinplastic2 on Instagram</td>\n",
       "      <td>“Bagging up tiny clothes. How do you store/or...</td>\n",
       "    </tr>\n",
       "    <tr>\n",
       "      <th>15</th>\n",
       "      <td>David García on Instagram</td>\n",
       "      <td>“Tinker bell #tinkerbell #peterpan #disney #f...</td>\n",
       "    </tr>\n",
       "    <tr>\n",
       "      <th>16</th>\n",
       "      <td>Kerry Howard-schmidt on Instagram</td>\n",
       "      <td>“Little red riding CROW ❤️🖤#papermoongallery ...</td>\n",
       "    </tr>\n",
       "    <tr>\n",
       "      <th>17</th>\n",
       "      <td>Mitch Anderson on Instagram</td>\n",
       "      <td>“#art #artist #yegart #yegartist #drawing #pe...</td>\n",
       "    </tr>\n",
       "    <tr>\n",
       "      <th>18</th>\n",
       "      <td>Luxurious Designs on Instagram</td>\n",
       "      <td>“A Goddess or a Princess  @bikbik.official 📸 ...</td>\n",
       "    </tr>\n",
       "    <tr>\n",
       "      <th>19</th>\n",
       "      <td>@stray.dream on Instagram</td>\n",
       "      <td>“Sabine normal skin + glitter head, $195. Not...</td>\n",
       "    </tr>\n",
       "  </tbody>\n",
       "</table>\n",
       "</div>"
      ],
      "text/plain": [
       "                                data1  \\\n",
       "0          @jelly_blythe on Instagram   \n",
       "1             TianBa0830 on Instagram   \n",
       "2     Blythe Doll Russia on Instagram   \n",
       "3   ❁ 𝓡𝓪𝓺𝓾𝓮𝓵 𝓒𝓵𝓮𝓶𝓮𝓷𝓽𝓮  ❁ on Instagram   \n",
       "4             Julia Gass on Instagram   \n",
       "5        Yoli 🏳️‍🌈💕Theia on Instagram   \n",
       "6                   Юлия on Instagram   \n",
       "7             Hain (ハイン) on Instagram   \n",
       "8          LiveMachinery on Instagram   \n",
       "9         Atypical Retro on Instagram   \n",
       "10           Ribbon Doll on Instagram   \n",
       "11        masayo keizuka on Instagram   \n",
       "12                Mune Z on Instagram   \n",
       "13     Dinha Reborns👶🏻🇧🇷 on Instagram   \n",
       "14       @loveinplastic2 on Instagram   \n",
       "15          David García on Instagram   \n",
       "16  Kerry Howard-schmidt on Instagram   \n",
       "17        Mitch Anderson on Instagram   \n",
       "18     Luxurious Designs on Instagram   \n",
       "19          @stray.dream on Instagram   \n",
       "\n",
       "                                                data2  \n",
       "0    “#dollartistry#doll#dolls#art#blythedress#bly...  \n",
       "1    “Eyes ♡ ♡ ♡ ♡#bjdmakeup #bjdfaceup #makeup #f...  \n",
       "2    “Бывает у вас творческое истощение? 🤔 Думаю с...  \n",
       "3    “Hi sweeties!! 🖤  I'm here again with the res...  \n",
       "4    “SOLD Hello, my friends! Flower dragon 😍 Have...  \n",
       "5    “Renaissance feeling ✨ . . #smartdoll #smartd...  \n",
       "6    “Парики/Wigs #ooak #ooakdoll #repaintmonsterh...  \n",
       "7    “Friend 🧡 . . . #knit #handmade #amigurumi #y...  \n",
       "8    “Throwback to darker days 🌓 . . . . . . Detai...  \n",
       "9    “Vintage Bradley Doll with tag still attached...  \n",
       "10   “はいポーズ🌻✨📷✨🌻 #doll #posedoll #vintage doll #ja...  \n",
       "11                                                     \n",
       "12   “Glitchy Sho . . #bjd #balljointeddoll #doll ...  \n",
       "13   “Olha que gato que eu estou,beijinhos do Dudu...  \n",
       "14   “Bagging up tiny clothes. How do you store/or...  \n",
       "15   “Tinker bell #tinkerbell #peterpan #disney #f...  \n",
       "16   “Little red riding CROW ❤️🖤#papermoongallery ...  \n",
       "17   “#art #artist #yegart #yegartist #drawing #pe...  \n",
       "18   “A Goddess or a Princess  @bikbik.official 📸 ...  \n",
       "19   “Sabine normal skin + glitter head, $195. Not...  "
      ]
     },
     "execution_count": 25,
     "metadata": {},
     "output_type": "execute_result"
    }
   ],
   "source": [
    "df.head(20)"
   ]
  },
  {
   "cell_type": "code",
   "execution_count": null,
   "metadata": {},
   "outputs": [],
   "source": []
  },
  {
   "cell_type": "code",
   "execution_count": null,
   "metadata": {},
   "outputs": [],
   "source": []
  },
  {
   "cell_type": "code",
   "execution_count": null,
   "metadata": {},
   "outputs": [],
   "source": []
  },
  {
   "cell_type": "code",
   "execution_count": null,
   "metadata": {},
   "outputs": [],
   "source": []
  },
  {
   "cell_type": "code",
   "execution_count": null,
   "metadata": {},
   "outputs": [],
   "source": []
  },
  {
   "cell_type": "code",
   "execution_count": null,
   "metadata": {},
   "outputs": [],
   "source": []
  },
  {
   "cell_type": "code",
   "execution_count": null,
   "metadata": {},
   "outputs": [],
   "source": []
  },
  {
   "cell_type": "code",
   "execution_count": null,
   "metadata": {},
   "outputs": [],
   "source": []
  },
  {
   "cell_type": "code",
   "execution_count": null,
   "metadata": {},
   "outputs": [],
   "source": []
  },
  {
   "cell_type": "code",
   "execution_count": null,
   "metadata": {},
   "outputs": [],
   "source": []
  },
  {
   "cell_type": "code",
   "execution_count": null,
   "metadata": {},
   "outputs": [],
   "source": []
  },
  {
   "cell_type": "code",
   "execution_count": null,
   "metadata": {},
   "outputs": [],
   "source": []
  },
  {
   "cell_type": "code",
   "execution_count": 6,
   "metadata": {},
   "outputs": [],
   "source": [
    "df.to_excel('instagram.xlsx')\n",
    "#df.to_csv('instagram.csv')"
   ]
  },
  {
   "cell_type": "code",
   "execution_count": null,
   "metadata": {},
   "outputs": [],
   "source": []
  }
 ],
 "metadata": {
  "kernelspec": {
   "display_name": "Python 3",
   "language": "python",
   "name": "python3"
  },
  "language_info": {
   "codemirror_mode": {
    "name": "ipython",
    "version": 3
   },
   "file_extension": ".py",
   "mimetype": "text/x-python",
   "name": "python",
   "nbconvert_exporter": "python",
   "pygments_lexer": "ipython3",
   "version": "3.7.3"
  }
 },
 "nbformat": 4,
 "nbformat_minor": 2
}
